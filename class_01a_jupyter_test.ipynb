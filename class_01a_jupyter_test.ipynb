{
 "cells": [
  {
   "cell_type": "code",
   "execution_count": null,
   "id": "spread-happiness",
   "metadata": {},
   "outputs": [],
   "source": [
    "%matplotlib inline\n",
    "%load_ext autoreload\n",
    "%autoreload 2\n",
    "\n",
    "import numpy as np\n",
    "import pandas as pd\n",
    "import torch\n",
    "import matplotlib.pyplot as plt\n",
    "import seaborn as sns\n",
    "from IPython.display import Markdown, display, HTML\n",
    "\n",
    "# Fix the dying kernel problem (only a problem in some installations - you can remove it, if it works without it)\n",
    "import os\n",
    "os.environ['KMP_DUPLICATE_LIB_OK'] = 'True'"
   ]
  },
  {
   "cell_type": "code",
   "execution_count": null,
   "id": "adult-compensation",
   "metadata": {
    "scrolled": false
   },
   "outputs": [],
   "source": [
    "a = np.array(\n",
    "    [[1.0, 2.0, 3.0], \n",
    "     [4.0, 5.0, 6.0], \n",
    "     [7.0, 8.0, 9.0]]\n",
    ")\n",
    "\n",
    "print(\"Numpy array\")\n",
    "print(a)\n",
    "print()\n",
    "\n",
    "df = pd.DataFrame(a, columns=['A', 'B', 'C'])\n",
    "\n",
    "print(\"Pandas DataFrame\")\n",
    "print(df)\n",
    "print()\n",
    "\n",
    "print(\"Pretty display of pandas DataFrame\")\n",
    "display(HTML(df.to_html(index=False)))\n",
    "print()\n",
    "\n",
    "tensor = torch.from_numpy(a)\n",
    "\n",
    "print(\"PyTorch tensor\")\n",
    "print(tensor)\n",
    "print()\n",
    "\n",
    "# Matplotlib\n",
    "\n",
    "print(\"Matplolib chart\")\n",
    "\n",
    "# Prepare the data\n",
    "x = np.linspace(0, 10, 100)\n",
    "\n",
    "# Plot the data\n",
    "plt.plot(x, x, label='linear')\n",
    "\n",
    "# Add a legend\n",
    "plt.legend()\n",
    "\n",
    "# Show the plot\n",
    "plt.show()\n",
    "\n",
    "# Seaborn\n",
    "\n",
    "print(\"Seaborn chart\")\n",
    "\n",
    "sns.set_theme(style=\"darkgrid\")\n",
    "\n",
    "# Load the example Titanic dataset (the dataset may load some time)\n",
    "df = sns.load_dataset(\"titanic\")\n",
    "\n",
    "# Make a custom palette with gendered colors\n",
    "pal = dict(male=\"#6495ED\", female=\"#F08080\")\n",
    "\n",
    "# Show the survival probability as a function of age and sex\n",
    "g = sns.lmplot(x=\"age\", y=\"survived\", col=\"sex\", hue=\"sex\", data=df,\n",
    "               palette=pal, y_jitter=.02, logistic=True, truncate=False)\n",
    "g.set(xlim=(0, 80), ylim=(-.05, 1.05))\n",
    "\n",
    "# Show the plot\n",
    "plt.show()"
   ]
  },
  {
   "cell_type": "code",
   "execution_count": null,
   "id": "apparent-first",
   "metadata": {},
   "outputs": [
    {
     "name": "stdout",
     "output_type": "stream",
     "text": [
      "^C\n"
     ]
    }
   ],
   "source": []
  },
  {
   "cell_type": "code",
   "execution_count": null,
   "id": "0d796587",
   "metadata": {},
   "outputs": [],
   "source": []
  }
 ],
 "metadata": {
  "kernelspec": {
   "display_name": "Python 3 (ipykernel)",
   "language": "python",
   "name": "python3"
  },
  "language_info": {
   "codemirror_mode": {
    "name": "ipython",
    "version": 3
   },
   "file_extension": ".py",
   "mimetype": "text/x-python",
   "name": "python",
   "nbconvert_exporter": "python",
   "pygments_lexer": "ipython3",
   "version": "3.9.13"
  }
 },
 "nbformat": 4,
 "nbformat_minor": 5
}
