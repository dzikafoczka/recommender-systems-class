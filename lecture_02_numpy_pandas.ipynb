{
 "cells": [
  {
   "cell_type": "code",
   "execution_count": 2,
   "id": "spread-happiness",
   "metadata": {
    "pycharm": {
     "name": "#%%\n"
    }
   },
   "outputs": [],
   "source": [
    "%matplotlib inline\n",
    "%load_ext autoreload\n",
    "%autoreload 2\n",
    "\n",
    "import numpy as np\n",
    "import pandas as pd\n",
    "import matplotlib.pyplot as plt\n",
    "import seaborn as sns\n",
    "from IPython.display import Markdown, display, HTML\n",
    "\n",
    "# Fix the dying kernel problem (only a problem in some installations - you can remove it, if it works without it)\n",
    "import os\n",
    "os.environ['KMP_DUPLICATE_LIB_OK'] = 'True'"
   ]
  },
  {
   "cell_type": "markdown",
   "id": "approximate-classic",
   "metadata": {
    "pycharm": {
     "name": "#%% md\n"
    }
   },
   "source": [
    "# Numpy\n",
    "\n",
    "For a detailed reference check out: https://numpy.org/doc/stable/reference/arrays.indexing.html."
   ]
  },
  {
   "cell_type": "markdown",
   "id": "renewable-chase",
   "metadata": {
    "pycharm": {
     "name": "#%% md\n"
    }
   },
   "source": [
    "## Creating numpy arrays"
   ]
  },
  {
   "cell_type": "markdown",
   "id": "afraid-consortium",
   "metadata": {
    "pycharm": {
     "name": "#%% md\n"
    }
   },
   "source": [
    "### Directly"
   ]
  },
  {
   "cell_type": "code",
   "execution_count": 3,
   "id": "textile-mainland",
   "metadata": {
    "pycharm": {
     "name": "#%%\n"
    }
   },
   "outputs": [
    {
     "name": "stdout",
     "output_type": "stream",
     "text": [
      "[[1. 2. 3.]\n",
      " [4. 5. 6.]\n",
      " [7. 8. 9.]]\n"
     ]
    }
   ],
   "source": [
    "a = np.array(\n",
    "    [[1.0, 2.0, 3.0], \n",
    "     [4.0, 5.0, 6.0], \n",
    "     [7.0, 8.0, 9.0]]\n",
    ")\n",
    "\n",
    "print(a)"
   ]
  },
  {
   "cell_type": "markdown",
   "id": "floating-junior",
   "metadata": {
    "pycharm": {
     "name": "#%% md\n"
    }
   },
   "source": [
    "### From a list"
   ]
  },
  {
   "cell_type": "code",
   "execution_count": 4,
   "id": "reasonable-mistress",
   "metadata": {
    "pycharm": {
     "name": "#%%\n"
    }
   },
   "outputs": [
    {
     "name": "stdout",
     "output_type": "stream",
     "text": [
      "[[1.0, 2.0, 3.0], [4.0, 5.0, 6.0], [7.0, 8.0, 9.0]]\n",
      "\n",
      "[[1. 2. 3.]\n",
      " [4. 5. 6.]\n",
      " [7. 8. 9.]]\n"
     ]
    }
   ],
   "source": [
    "a = [[1.0, 2.0, 3.0], \n",
    "     [4.0, 5.0, 6.0], \n",
    "     [7.0, 8.0, 9.0]]\n",
    "\n",
    "print(a)\n",
    "print()\n",
    "\n",
    "a = np.array(a)\n",
    "\n",
    "print(a)"
   ]
  },
  {
   "cell_type": "markdown",
   "id": "incorrect-practitioner",
   "metadata": {
    "pycharm": {
     "name": "#%% md\n"
    }
   },
   "source": [
    "### From a list comprehension"
   ]
  },
  {
   "cell_type": "code",
   "execution_count": 5,
   "id": "straight-cooling",
   "metadata": {
    "pycharm": {
     "name": "#%%\n"
    }
   },
   "outputs": [
    {
     "name": "stdout",
     "output_type": "stream",
     "text": [
      "[0, 1, 4, 9, 16, 25, 36, 49, 64, 81]\n",
      "\n",
      "[ 0  1  4  9 16 25 36 49 64 81]\n"
     ]
    }
   ],
   "source": [
    "a = [i**2 for i in range(10)]\n",
    "\n",
    "print(a)\n",
    "print()\n",
    "print(np.array(a))"
   ]
  },
  {
   "cell_type": "markdown",
   "id": "suffering-myanmar",
   "metadata": {
    "pycharm": {
     "name": "#%% md\n"
    }
   },
   "source": [
    "### Ready-made functions in numpy"
   ]
  },
  {
   "cell_type": "code",
   "execution_count": 6,
   "id": "expensive-bowling",
   "metadata": {
    "pycharm": {
     "name": "#%%\n"
    }
   },
   "outputs": [
    {
     "name": "stdout",
     "output_type": "stream",
     "text": [
      "All zeros\n",
      "[[0. 0. 0. 0.]\n",
      " [0. 0. 0. 0.]\n",
      " [0. 0. 0. 0.]]\n",
      "\n",
      "All chosen value (variant 1)\n",
      "[[7. 7. 7. 7.]\n",
      " [7. 7. 7. 7.]\n",
      " [7. 7. 7. 7.]]\n",
      "\n",
      "All chosen value (variant 2)\n",
      "[[7. 7. 7. 7.]\n",
      " [7. 7. 7. 7.]\n",
      " [7. 7. 7. 7.]]\n",
      "\n",
      "Random integers\n",
      "[[3 5]\n",
      " [1 4]\n",
      " [6 4]]\n",
      "\n",
      "Random values from the normal distribution\n",
      "[[ 24.70658622   2.1808814   -5.91450704 -13.16978226  11.86425425]\n",
      " [-10.7039526   -1.87114102   7.26154002  -3.86554024  21.88591899]\n",
      " [  3.51209252 -25.98572251  -2.62306173  -3.82316503   0.8836791 ]]\n",
      "\n",
      "Random values from the normal distribution with controlled seed\n",
      "[[ 16.24345364  -6.11756414]\n",
      " [ -5.28171752 -10.72968622]\n",
      " [  8.65407629 -23.01538697]]\n"
     ]
    }
   ],
   "source": [
    "# All zeros\n",
    "a = np.zeros((3, 4))\n",
    "print(\"All zeros\")\n",
    "print(a)\n",
    "print()\n",
    "\n",
    "# All a chosen value\n",
    "a = np.full((3, 4), 7.0)\n",
    "print(\"All chosen value (variant 1)\")\n",
    "print(a)\n",
    "print()\n",
    "\n",
    "# or\n",
    "\n",
    "a = np.zeros((3, 4))\n",
    "a[:] = 7.0\n",
    "print(\"All chosen value (variant 2)\")\n",
    "print(a)\n",
    "print()\n",
    "\n",
    "# Random integers\n",
    "\n",
    "a = np.random.randint(low=0, high=10, size=(3, 2))\n",
    "print(\"Random integers\")\n",
    "print(a)\n",
    "print()\n",
    "\n",
    "# Random values from the normal distribution (Gaussian)\n",
    "\n",
    "print(\"Random values from the normal distribution\")\n",
    "a = np.random.normal(loc=0, scale=10, size=(3, 5))\n",
    "print(a)\n",
    "print()\n",
    "\n",
    "# Random values with controlled seed\n",
    "\n",
    "print(\"Random values from the normal distribution with controlled seed\")\n",
    "rng = np.random.RandomState(seed=1)\n",
    "a = rng.normal(loc=0, scale=10, size=(3, 2))\n",
    "print(a)"
   ]
  },
  {
   "cell_type": "markdown",
   "id": "aggressive-titanium",
   "metadata": {
    "pycharm": {
     "name": "#%% md\n"
    }
   },
   "source": [
    "## Slicing numpy arrays"
   ]
  },
  {
   "cell_type": "markdown",
   "id": "former-richardson",
   "metadata": {
    "pycharm": {
     "name": "#%% md\n"
    }
   },
   "source": [
    "### Slicing in 1D\n",
    "\n",
    "To obtain only specific values from a numpy array one can use so called slicing. It has the form\n",
    "\n",
    "**arr[low:high:step]**\n",
    "\n",
    "where low is the lowest index to be retrieved, high is the lowest index not to be retrieved and step indicates that every step element will be taken."
   ]
  },
  {
   "cell_type": "code",
   "execution_count": 7,
   "id": "desirable-documentary",
   "metadata": {
    "pycharm": {
     "name": "#%%\n"
    }
   },
   "outputs": [
    {
     "name": "stdout",
     "output_type": "stream",
     "text": [
      "Original:  [0, 1, 4, 9, 16, 25, 36, 49, 64, 81]\n",
      "First 5 elements: [0, 1, 4, 9, 16]\n",
      "Elements from index 3 to index 5: [9, 16, 25]\n",
      "Last 3 elements (negative indexing): [49, 64, 81]\n",
      "Printed in reverse order: [81, 64, 49, 36, 25, 16, 9, 4, 1, 0]\n",
      "Every second element: [0, 4, 16, 36, 64]\n"
     ]
    }
   ],
   "source": [
    "a = [i**2 for i in range(10)]\n",
    "\n",
    "print(\"Original: \", a)\n",
    "print(\"First 5 elements:\", a[:5])\n",
    "print(\"Elements from index 3 to index 5:\", a[3:6])\n",
    "print(\"Last 3 elements (negative indexing):\", a[-3:])\n",
    "print(\"Printed in reverse order:\", a[::-1])\n",
    "print(\"Every second element:\", a[::2])"
   ]
  },
  {
   "cell_type": "markdown",
   "id": "micro-explosion",
   "metadata": {
    "pycharm": {
     "name": "#%% md\n"
    }
   },
   "source": [
    "### Slicing in 2D\n",
    "\n",
    "In two dimensions it works similarly, just the slicing is separate for every dimension."
   ]
  },
  {
   "cell_type": "code",
   "execution_count": 8,
   "id": "disciplinary-think",
   "metadata": {
    "pycharm": {
     "name": "#%%\n"
    }
   },
   "outputs": [
    {
     "name": "stdout",
     "output_type": "stream",
     "text": [
      "Original: \n",
      "[[ 0  1  2  3  4]\n",
      " [ 5  6  7  8  9]\n",
      " [10 11 12 13 14]\n",
      " [15 16 17 18 19]\n",
      " [20 21 22 23 24]]\n",
      "\n",
      "First 2 elements of the first 3 rows:\n",
      "[[ 0  1]\n",
      " [ 5  6]\n",
      " [10 11]]\n",
      "\n",
      "Middle 3 elements from the middle 3 rows:\n",
      "[[ 6  7  8]\n",
      " [11 12 13]\n",
      " [16 17 18]]\n",
      "\n",
      "Bottom-right 3 by 3 submatrix (negative indexing):\n",
      "[[12 13 14]\n",
      " [17 18 19]\n",
      " [22 23 24]]\n",
      "\n",
      "Reversed columns:\n",
      "[[ 4  3  2  1  0]\n",
      " [ 9  8  7  6  5]\n",
      " [14 13 12 11 10]\n",
      " [19 18 17 16 15]\n",
      " [24 23 22 21 20]]\n",
      "\n"
     ]
    }
   ],
   "source": [
    "a = np.array([i for i in range(25)]).reshape(5, 5)\n",
    "\n",
    "print(\"Original: \")\n",
    "print(a)\n",
    "print()\n",
    "print(\"First 2 elements of the first 3 rows:\")\n",
    "print(a[:3, :2])\n",
    "print()\n",
    "print(\"Middle 3 elements from the middle 3 rows:\")\n",
    "print(a[1:4, 1:4])\n",
    "print()\n",
    "print(\"Bottom-right 3 by 3 submatrix (negative indexing):\")\n",
    "print(a[-3:, -3:])\n",
    "print()\n",
    "print(\"Reversed columns:\")\n",
    "print(a[:, ::-1])\n",
    "print()"
   ]
  },
  {
   "cell_type": "markdown",
   "id": "removable-canyon",
   "metadata": {
    "pycharm": {
     "name": "#%% md\n"
    }
   },
   "source": [
    "### Setting numpy array field values"
   ]
  },
  {
   "cell_type": "code",
   "execution_count": 9,
   "id": "senior-serbia",
   "metadata": {
    "pycharm": {
     "name": "#%%\n"
    }
   },
   "outputs": [
    {
     "name": "stdout",
     "output_type": "stream",
     "text": [
      "Original: \n",
      "[[ 0  1  2  3  4]\n",
      " [ 5  6  7  8  9]\n",
      " [10 11 12 13 14]\n",
      " [15 16 17 18 19]\n",
      " [20 21 22 23 24]]\n",
      "\n",
      "Middle values changed to 5\n",
      "[[ 0  1  2  3  4]\n",
      " [ 5  5  5  5  9]\n",
      " [10  5  5  5 14]\n",
      " [15  5  5  5 19]\n",
      " [20 21 22 23 24]]\n",
      "\n",
      "Second matrix\n",
      "[[ 0  0  2]\n",
      " [ 6 12 20]\n",
      " [30 42 56]]\n",
      "\n",
      "Second matrix substituted into the middle of the first matrix\n",
      "[[ 0  1  2  3  4]\n",
      " [ 5  0  0  2  9]\n",
      " [10  6 12 20 14]\n",
      " [15 30 42 56 19]\n",
      " [20 21 22 23 24]]\n"
     ]
    }
   ],
   "source": [
    "a = np.array([i for i in range(25)]).reshape(5, 5)\n",
    "\n",
    "print(\"Original: \")\n",
    "print(a)\n",
    "print()\n",
    "\n",
    "a[1:4, 1:4] = 5.0\n",
    "\n",
    "print(\"Middle values changed to 5\")\n",
    "print(a)\n",
    "print()\n",
    "\n",
    "b = np.array([i**2 - i for i in range(9)]).reshape(3, 3)\n",
    "\n",
    "print(\"Second matrix\")\n",
    "print(b)\n",
    "print()\n",
    "\n",
    "a[1:4, 1:4] = b\n",
    "\n",
    "print(\"Second matrix substituted into the middle of the first matrix\")\n",
    "print(a)"
   ]
  },
  {
   "cell_type": "markdown",
   "id": "federal-wayne",
   "metadata": {
    "pycharm": {
     "name": "#%% md\n"
    }
   },
   "source": [
    "## Operations on numpy arrays\n",
    "\n",
    "It is important to remember that arithmetic operations on numpy arrays are always element-wise."
   ]
  },
  {
   "cell_type": "code",
   "execution_count": 10,
   "id": "southwest-biotechnology",
   "metadata": {
    "pycharm": {
     "name": "#%%\n"
    }
   },
   "outputs": [
    {
     "name": "stdout",
     "output_type": "stream",
     "text": [
      "[[ 0  1  4]\n",
      " [ 9 16 25]\n",
      " [36 49 64]]\n",
      "\n",
      "[[0.         1.         1.41421356]\n",
      " [1.73205081 2.         2.23606798]\n",
      " [2.44948974 2.64575131 2.82842712]]\n",
      "\n"
     ]
    }
   ],
   "source": [
    "a = np.array([i**2 for i in range(9)]).reshape((3, 3))\n",
    "print(a)\n",
    "print()\n",
    "\n",
    "b = np.array([i**0.5 for i in range(9)]).reshape((3, 3))\n",
    "print(b)\n",
    "print()"
   ]
  },
  {
   "cell_type": "markdown",
   "id": "intensive-gates",
   "metadata": {
    "pycharm": {
     "name": "#%% md\n"
    }
   },
   "source": [
    "### Element-wise sum"
   ]
  },
  {
   "cell_type": "code",
   "execution_count": 11,
   "id": "behavioral-safety",
   "metadata": {
    "pycharm": {
     "name": "#%%\n"
    }
   },
   "outputs": [
    {
     "name": "stdout",
     "output_type": "stream",
     "text": [
      "[[ 0.          2.          5.41421356]\n",
      " [10.73205081 18.         27.23606798]\n",
      " [38.44948974 51.64575131 66.82842712]]\n"
     ]
    }
   ],
   "source": [
    "print(a + b)"
   ]
  },
  {
   "cell_type": "markdown",
   "id": "occupied-trial",
   "metadata": {
    "pycharm": {
     "name": "#%% md\n"
    }
   },
   "source": [
    "### Element-wise multiplication"
   ]
  },
  {
   "cell_type": "code",
   "execution_count": 12,
   "id": "charming-pleasure",
   "metadata": {
    "pycharm": {
     "name": "#%%\n"
    }
   },
   "outputs": [
    {
     "name": "stdout",
     "output_type": "stream",
     "text": [
      "[[  0.           1.           5.65685425]\n",
      " [ 15.58845727  32.          55.90169944]\n",
      " [ 88.18163074 129.64181424 181.01933598]]\n"
     ]
    }
   ],
   "source": [
    "print(a * b)"
   ]
  },
  {
   "cell_type": "markdown",
   "id": "efficient-league",
   "metadata": {
    "pycharm": {
     "name": "#%% md\n"
    }
   },
   "source": [
    "### Matrix multiplication"
   ]
  },
  {
   "cell_type": "code",
   "execution_count": 13,
   "id": "changing-community",
   "metadata": {
    "pycharm": {
     "name": "#%%\n"
    }
   },
   "outputs": [
    {
     "name": "stdout",
     "output_type": "stream",
     "text": [
      "[[ 11.53000978  12.58300524  13.54977648]\n",
      " [ 88.95005649 107.14378278 119.21568782]\n",
      " [241.63783311 303.32808391 341.49835513]]\n",
      "\n",
      "[[ 0.  1.  4.]\n",
      " [ 9. 16. 25.]\n",
      " [36. 49. 64.]]\n"
     ]
    }
   ],
   "source": [
    "print(np.matmul(a, b))\n",
    "print()\n",
    "\n",
    "# Multiplication by the identity matrix (to check it works as expected)\n",
    "id_matrix = [[1.0, 0.0, 0.0], \n",
    "             [0.0, 1.0, 0.0], \n",
    "             [0.0, 0.0, 1.0]]\n",
    "\n",
    "print(np.matmul(id_matrix, a))"
   ]
  },
  {
   "cell_type": "markdown",
   "id": "assisted-communications",
   "metadata": {
    "pycharm": {
     "name": "#%% md\n"
    }
   },
   "source": [
    "### Calculating the mean"
   ]
  },
  {
   "cell_type": "code",
   "execution_count": 14,
   "id": "defensive-wrong",
   "metadata": {
    "pycharm": {
     "name": "#%%\n"
    }
   },
   "outputs": [
    {
     "name": "stdout",
     "output_type": "stream",
     "text": [
      "[2 6 5 3 7]\n",
      "\n",
      "Mean:  4.6\n"
     ]
    }
   ],
   "source": [
    "a = np.random.randint(low=0, high=10, size=(5))\n",
    "\n",
    "print(a)\n",
    "print()\n",
    "\n",
    "print(\"Mean: \", np.sum(a) / len(a))"
   ]
  },
  {
   "cell_type": "markdown",
   "id": "complex-karma",
   "metadata": {
    "pycharm": {
     "name": "#%% md\n"
    }
   },
   "source": [
    "### Calculating the mean of every row"
   ]
  },
  {
   "cell_type": "code",
   "execution_count": 15,
   "id": "correct-dietary",
   "metadata": {
    "pycharm": {
     "name": "#%%\n"
    }
   },
   "outputs": [
    {
     "name": "stdout",
     "output_type": "stream",
     "text": [
      "[[5 0 0]\n",
      " [7 2 2]\n",
      " [6 8 7]\n",
      " [5 4 6]\n",
      " [8 1 5]]\n",
      "\n",
      "Mean: [1.66666667 3.66666667 7.         5.         4.66666667]\n",
      "Mean in the original matrix form:\n",
      "[[1.66666667]\n",
      " [3.66666667]\n",
      " [7.        ]\n",
      " [5.        ]\n",
      " [4.66666667]]\n"
     ]
    }
   ],
   "source": [
    "a = np.random.randint(low=0, high=10, size=(5, 3))\n",
    "\n",
    "print(a)\n",
    "print()\n",
    "\n",
    "print(\"Mean:\", np.sum(a, axis=1) / a.shape[1])\n",
    "\n",
    "print(\"Mean in the original matrix form:\")\n",
    "print((np.sum(a, axis=1) / a.shape[1]).reshape(-1, 1))  # -1 calculates the right size to use all elements"
   ]
  },
  {
   "cell_type": "markdown",
   "id": "indian-orlando",
   "metadata": {
    "pycharm": {
     "name": "#%% md\n"
    }
   },
   "source": [
    "### More complex operations"
   ]
  },
  {
   "cell_type": "code",
   "execution_count": 16,
   "id": "presidential-cologne",
   "metadata": {
    "pycharm": {
     "name": "#%%\n"
    }
   },
   "outputs": [
    {
     "name": "stdout",
     "output_type": "stream",
     "text": [
      "Vector to power 2 (element-wise)\n",
      "[1. 4. 9.]\n",
      "\n",
      "Euler number to the power a (element-wise)\n",
      "[ 2.71828183  7.3890561  20.08553692]\n",
      "\n",
      "An even more complex expression\n",
      "[0.61971364 1.89817602 4.84758949]\n"
     ]
    }
   ],
   "source": [
    "a = [1.0, 2.0, 3.0]\n",
    "\n",
    "print(\"Vector to power 2 (element-wise)\")\n",
    "print(np.power(a, 2))\n",
    "print()\n",
    "print(\"Euler number to the power a (element-wise)\")\n",
    "print(np.exp(a))\n",
    "print()\n",
    "print(\"An even more complex expression\")\n",
    "print((np.power(a, 2) + np.exp(a)) / np.sum(a))"
   ]
  },
  {
   "cell_type": "markdown",
   "id": "latter-vector",
   "metadata": {
    "pycharm": {
     "name": "#%% md\n"
    }
   },
   "source": [
    "# Pandas"
   ]
  },
  {
   "cell_type": "markdown",
   "id": "contrary-vacuum",
   "metadata": {
    "pycharm": {
     "name": "#%% md\n"
    }
   },
   "source": [
    "## Load datasets\n",
    "\n",
    "- Steam (https://www.kaggle.com/tamber/steam-video-games)\n",
    "\n",
    "- MovieLens (https://grouplens.org/datasets/movielens/)"
   ]
  },
  {
   "cell_type": "code",
   "execution_count": 17,
   "id": "alert-friday",
   "metadata": {
    "pycharm": {
     "name": "#%%\n"
    }
   },
   "outputs": [],
   "source": [
    "steam_df = pd.read_csv(os.path.join(\"data\", \"steam\", \"steam-200k.csv\"), \n",
    "                       names=['user-id', 'game-title', 'behavior-name', 'value', 'zero'])\n",
    "\n",
    "ml_ratings_df = pd.read_csv(os.path.join(\"data\", \"movielens_small\", \"ratings.csv\"))\n",
    "ml_movies_df = pd.read_csv(os.path.join(\"data\", \"movielens_small\", \"movies.csv\"))"
   ]
  },
  {
   "cell_type": "markdown",
   "id": "personal-productivity",
   "metadata": {
    "pycharm": {
     "name": "#%% md\n"
    }
   },
   "source": [
    "## Peek into the datasets"
   ]
  },
  {
   "cell_type": "code",
   "execution_count": 18,
   "id": "musical-trust",
   "metadata": {
    "pycharm": {
     "name": "#%%\n"
    }
   },
   "outputs": [
    {
     "data": {
      "text/html": [
       "<div>\n",
       "<style scoped>\n",
       "    .dataframe tbody tr th:only-of-type {\n",
       "        vertical-align: middle;\n",
       "    }\n",
       "\n",
       "    .dataframe tbody tr th {\n",
       "        vertical-align: top;\n",
       "    }\n",
       "\n",
       "    .dataframe thead th {\n",
       "        text-align: right;\n",
       "    }\n",
       "</style>\n",
       "<table border=\"1\" class=\"dataframe\">\n",
       "  <thead>\n",
       "    <tr style=\"text-align: right;\">\n",
       "      <th></th>\n",
       "      <th>user-id</th>\n",
       "      <th>game-title</th>\n",
       "      <th>behavior-name</th>\n",
       "      <th>value</th>\n",
       "      <th>zero</th>\n",
       "    </tr>\n",
       "  </thead>\n",
       "  <tbody>\n",
       "    <tr>\n",
       "      <th>0</th>\n",
       "      <td>151603712</td>\n",
       "      <td>The Elder Scrolls V Skyrim</td>\n",
       "      <td>purchase</td>\n",
       "      <td>1.0</td>\n",
       "      <td>0</td>\n",
       "    </tr>\n",
       "    <tr>\n",
       "      <th>1</th>\n",
       "      <td>151603712</td>\n",
       "      <td>The Elder Scrolls V Skyrim</td>\n",
       "      <td>play</td>\n",
       "      <td>273.0</td>\n",
       "      <td>0</td>\n",
       "    </tr>\n",
       "    <tr>\n",
       "      <th>2</th>\n",
       "      <td>151603712</td>\n",
       "      <td>Fallout 4</td>\n",
       "      <td>purchase</td>\n",
       "      <td>1.0</td>\n",
       "      <td>0</td>\n",
       "    </tr>\n",
       "    <tr>\n",
       "      <th>3</th>\n",
       "      <td>151603712</td>\n",
       "      <td>Fallout 4</td>\n",
       "      <td>play</td>\n",
       "      <td>87.0</td>\n",
       "      <td>0</td>\n",
       "    </tr>\n",
       "    <tr>\n",
       "      <th>4</th>\n",
       "      <td>151603712</td>\n",
       "      <td>Spore</td>\n",
       "      <td>purchase</td>\n",
       "      <td>1.0</td>\n",
       "      <td>0</td>\n",
       "    </tr>\n",
       "    <tr>\n",
       "      <th>5</th>\n",
       "      <td>151603712</td>\n",
       "      <td>Spore</td>\n",
       "      <td>play</td>\n",
       "      <td>14.9</td>\n",
       "      <td>0</td>\n",
       "    </tr>\n",
       "    <tr>\n",
       "      <th>6</th>\n",
       "      <td>151603712</td>\n",
       "      <td>Fallout New Vegas</td>\n",
       "      <td>purchase</td>\n",
       "      <td>1.0</td>\n",
       "      <td>0</td>\n",
       "    </tr>\n",
       "    <tr>\n",
       "      <th>7</th>\n",
       "      <td>151603712</td>\n",
       "      <td>Fallout New Vegas</td>\n",
       "      <td>play</td>\n",
       "      <td>12.1</td>\n",
       "      <td>0</td>\n",
       "    </tr>\n",
       "    <tr>\n",
       "      <th>8</th>\n",
       "      <td>151603712</td>\n",
       "      <td>Left 4 Dead 2</td>\n",
       "      <td>purchase</td>\n",
       "      <td>1.0</td>\n",
       "      <td>0</td>\n",
       "    </tr>\n",
       "    <tr>\n",
       "      <th>9</th>\n",
       "      <td>151603712</td>\n",
       "      <td>Left 4 Dead 2</td>\n",
       "      <td>play</td>\n",
       "      <td>8.9</td>\n",
       "      <td>0</td>\n",
       "    </tr>\n",
       "  </tbody>\n",
       "</table>\n",
       "</div>"
      ],
      "text/plain": [
       "     user-id                  game-title behavior-name  value  zero\n",
       "0  151603712  The Elder Scrolls V Skyrim      purchase    1.0     0\n",
       "1  151603712  The Elder Scrolls V Skyrim          play  273.0     0\n",
       "2  151603712                   Fallout 4      purchase    1.0     0\n",
       "3  151603712                   Fallout 4          play   87.0     0\n",
       "4  151603712                       Spore      purchase    1.0     0\n",
       "5  151603712                       Spore          play   14.9     0\n",
       "6  151603712           Fallout New Vegas      purchase    1.0     0\n",
       "7  151603712           Fallout New Vegas          play   12.1     0\n",
       "8  151603712               Left 4 Dead 2      purchase    1.0     0\n",
       "9  151603712               Left 4 Dead 2          play    8.9     0"
      ]
     },
     "execution_count": 18,
     "metadata": {},
     "output_type": "execute_result"
    }
   ],
   "source": [
    "steam_df.head(10)"
   ]
  },
  {
   "cell_type": "code",
   "execution_count": 19,
   "id": "electrical-floor",
   "metadata": {
    "pycharm": {
     "name": "#%%\n"
    }
   },
   "outputs": [
    {
     "data": {
      "text/html": [
       "<div>\n",
       "<style scoped>\n",
       "    .dataframe tbody tr th:only-of-type {\n",
       "        vertical-align: middle;\n",
       "    }\n",
       "\n",
       "    .dataframe tbody tr th {\n",
       "        vertical-align: top;\n",
       "    }\n",
       "\n",
       "    .dataframe thead th {\n",
       "        text-align: right;\n",
       "    }\n",
       "</style>\n",
       "<table border=\"1\" class=\"dataframe\">\n",
       "  <thead>\n",
       "    <tr style=\"text-align: right;\">\n",
       "      <th></th>\n",
       "      <th>userId</th>\n",
       "      <th>movieId</th>\n",
       "      <th>rating</th>\n",
       "      <th>timestamp</th>\n",
       "    </tr>\n",
       "  </thead>\n",
       "  <tbody>\n",
       "    <tr>\n",
       "      <th>0</th>\n",
       "      <td>1</td>\n",
       "      <td>1</td>\n",
       "      <td>4.0</td>\n",
       "      <td>964982703</td>\n",
       "    </tr>\n",
       "    <tr>\n",
       "      <th>1</th>\n",
       "      <td>1</td>\n",
       "      <td>3</td>\n",
       "      <td>4.0</td>\n",
       "      <td>964981247</td>\n",
       "    </tr>\n",
       "    <tr>\n",
       "      <th>2</th>\n",
       "      <td>1</td>\n",
       "      <td>6</td>\n",
       "      <td>4.0</td>\n",
       "      <td>964982224</td>\n",
       "    </tr>\n",
       "    <tr>\n",
       "      <th>3</th>\n",
       "      <td>1</td>\n",
       "      <td>47</td>\n",
       "      <td>5.0</td>\n",
       "      <td>964983815</td>\n",
       "    </tr>\n",
       "    <tr>\n",
       "      <th>4</th>\n",
       "      <td>1</td>\n",
       "      <td>50</td>\n",
       "      <td>5.0</td>\n",
       "      <td>964982931</td>\n",
       "    </tr>\n",
       "    <tr>\n",
       "      <th>5</th>\n",
       "      <td>1</td>\n",
       "      <td>70</td>\n",
       "      <td>3.0</td>\n",
       "      <td>964982400</td>\n",
       "    </tr>\n",
       "    <tr>\n",
       "      <th>6</th>\n",
       "      <td>1</td>\n",
       "      <td>101</td>\n",
       "      <td>5.0</td>\n",
       "      <td>964980868</td>\n",
       "    </tr>\n",
       "    <tr>\n",
       "      <th>7</th>\n",
       "      <td>1</td>\n",
       "      <td>110</td>\n",
       "      <td>4.0</td>\n",
       "      <td>964982176</td>\n",
       "    </tr>\n",
       "    <tr>\n",
       "      <th>8</th>\n",
       "      <td>1</td>\n",
       "      <td>151</td>\n",
       "      <td>5.0</td>\n",
       "      <td>964984041</td>\n",
       "    </tr>\n",
       "    <tr>\n",
       "      <th>9</th>\n",
       "      <td>1</td>\n",
       "      <td>157</td>\n",
       "      <td>5.0</td>\n",
       "      <td>964984100</td>\n",
       "    </tr>\n",
       "  </tbody>\n",
       "</table>\n",
       "</div>"
      ],
      "text/plain": [
       "   userId  movieId  rating  timestamp\n",
       "0       1        1     4.0  964982703\n",
       "1       1        3     4.0  964981247\n",
       "2       1        6     4.0  964982224\n",
       "3       1       47     5.0  964983815\n",
       "4       1       50     5.0  964982931\n",
       "5       1       70     3.0  964982400\n",
       "6       1      101     5.0  964980868\n",
       "7       1      110     4.0  964982176\n",
       "8       1      151     5.0  964984041\n",
       "9       1      157     5.0  964984100"
      ]
     },
     "execution_count": 19,
     "metadata": {},
     "output_type": "execute_result"
    }
   ],
   "source": [
    "ml_ratings_df.head(10)"
   ]
  },
  {
   "cell_type": "code",
   "execution_count": 20,
   "id": "cordless-daniel",
   "metadata": {
    "pycharm": {
     "name": "#%%\n"
    }
   },
   "outputs": [
    {
     "data": {
      "text/html": [
       "<div>\n",
       "<style scoped>\n",
       "    .dataframe tbody tr th:only-of-type {\n",
       "        vertical-align: middle;\n",
       "    }\n",
       "\n",
       "    .dataframe tbody tr th {\n",
       "        vertical-align: top;\n",
       "    }\n",
       "\n",
       "    .dataframe thead th {\n",
       "        text-align: right;\n",
       "    }\n",
       "</style>\n",
       "<table border=\"1\" class=\"dataframe\">\n",
       "  <thead>\n",
       "    <tr style=\"text-align: right;\">\n",
       "      <th></th>\n",
       "      <th>movieId</th>\n",
       "      <th>title</th>\n",
       "      <th>genres</th>\n",
       "    </tr>\n",
       "  </thead>\n",
       "  <tbody>\n",
       "    <tr>\n",
       "      <th>0</th>\n",
       "      <td>1</td>\n",
       "      <td>Toy Story (1995)</td>\n",
       "      <td>Adventure|Animation|Children|Comedy|Fantasy</td>\n",
       "    </tr>\n",
       "    <tr>\n",
       "      <th>1</th>\n",
       "      <td>2</td>\n",
       "      <td>Jumanji (1995)</td>\n",
       "      <td>Adventure|Children|Fantasy</td>\n",
       "    </tr>\n",
       "    <tr>\n",
       "      <th>2</th>\n",
       "      <td>3</td>\n",
       "      <td>Grumpier Old Men (1995)</td>\n",
       "      <td>Comedy|Romance</td>\n",
       "    </tr>\n",
       "    <tr>\n",
       "      <th>3</th>\n",
       "      <td>4</td>\n",
       "      <td>Waiting to Exhale (1995)</td>\n",
       "      <td>Comedy|Drama|Romance</td>\n",
       "    </tr>\n",
       "    <tr>\n",
       "      <th>4</th>\n",
       "      <td>5</td>\n",
       "      <td>Father of the Bride Part II (1995)</td>\n",
       "      <td>Comedy</td>\n",
       "    </tr>\n",
       "  </tbody>\n",
       "</table>\n",
       "</div>"
      ],
      "text/plain": [
       "   movieId                               title  \\\n",
       "0        1                    Toy Story (1995)   \n",
       "1        2                      Jumanji (1995)   \n",
       "2        3             Grumpier Old Men (1995)   \n",
       "3        4            Waiting to Exhale (1995)   \n",
       "4        5  Father of the Bride Part II (1995)   \n",
       "\n",
       "                                        genres  \n",
       "0  Adventure|Animation|Children|Comedy|Fantasy  \n",
       "1                   Adventure|Children|Fantasy  \n",
       "2                               Comedy|Romance  \n",
       "3                         Comedy|Drama|Romance  \n",
       "4                                       Comedy  "
      ]
     },
     "execution_count": 20,
     "metadata": {},
     "output_type": "execute_result"
    }
   ],
   "source": [
    "ml_movies_df.head()"
   ]
  },
  {
   "cell_type": "markdown",
   "id": "alpha-portal",
   "metadata": {
    "pycharm": {
     "name": "#%% md\n"
    }
   },
   "source": [
    "## Merge both MovieLens DataFrames into one"
   ]
  },
  {
   "cell_type": "code",
   "execution_count": 21,
   "id": "affecting-disclosure",
   "metadata": {
    "pycharm": {
     "name": "#%%\n"
    }
   },
   "outputs": [
    {
     "data": {
      "text/html": [
       "<div>\n",
       "<style scoped>\n",
       "    .dataframe tbody tr th:only-of-type {\n",
       "        vertical-align: middle;\n",
       "    }\n",
       "\n",
       "    .dataframe tbody tr th {\n",
       "        vertical-align: top;\n",
       "    }\n",
       "\n",
       "    .dataframe thead th {\n",
       "        text-align: right;\n",
       "    }\n",
       "</style>\n",
       "<table border=\"1\" class=\"dataframe\">\n",
       "  <thead>\n",
       "    <tr style=\"text-align: right;\">\n",
       "      <th></th>\n",
       "      <th>userId</th>\n",
       "      <th>movieId</th>\n",
       "      <th>rating</th>\n",
       "      <th>timestamp</th>\n",
       "      <th>title</th>\n",
       "      <th>genres</th>\n",
       "    </tr>\n",
       "  </thead>\n",
       "  <tbody>\n",
       "    <tr>\n",
       "      <th>0</th>\n",
       "      <td>1</td>\n",
       "      <td>1</td>\n",
       "      <td>4.0</td>\n",
       "      <td>964982703</td>\n",
       "      <td>Toy Story (1995)</td>\n",
       "      <td>Adventure|Animation|Children|Comedy|Fantasy</td>\n",
       "    </tr>\n",
       "    <tr>\n",
       "      <th>1</th>\n",
       "      <td>5</td>\n",
       "      <td>1</td>\n",
       "      <td>4.0</td>\n",
       "      <td>847434962</td>\n",
       "      <td>Toy Story (1995)</td>\n",
       "      <td>Adventure|Animation|Children|Comedy|Fantasy</td>\n",
       "    </tr>\n",
       "    <tr>\n",
       "      <th>2</th>\n",
       "      <td>7</td>\n",
       "      <td>1</td>\n",
       "      <td>4.5</td>\n",
       "      <td>1106635946</td>\n",
       "      <td>Toy Story (1995)</td>\n",
       "      <td>Adventure|Animation|Children|Comedy|Fantasy</td>\n",
       "    </tr>\n",
       "    <tr>\n",
       "      <th>3</th>\n",
       "      <td>15</td>\n",
       "      <td>1</td>\n",
       "      <td>2.5</td>\n",
       "      <td>1510577970</td>\n",
       "      <td>Toy Story (1995)</td>\n",
       "      <td>Adventure|Animation|Children|Comedy|Fantasy</td>\n",
       "    </tr>\n",
       "    <tr>\n",
       "      <th>4</th>\n",
       "      <td>17</td>\n",
       "      <td>1</td>\n",
       "      <td>4.5</td>\n",
       "      <td>1305696483</td>\n",
       "      <td>Toy Story (1995)</td>\n",
       "      <td>Adventure|Animation|Children|Comedy|Fantasy</td>\n",
       "    </tr>\n",
       "    <tr>\n",
       "      <th>5</th>\n",
       "      <td>18</td>\n",
       "      <td>1</td>\n",
       "      <td>3.5</td>\n",
       "      <td>1455209816</td>\n",
       "      <td>Toy Story (1995)</td>\n",
       "      <td>Adventure|Animation|Children|Comedy|Fantasy</td>\n",
       "    </tr>\n",
       "    <tr>\n",
       "      <th>6</th>\n",
       "      <td>19</td>\n",
       "      <td>1</td>\n",
       "      <td>4.0</td>\n",
       "      <td>965705637</td>\n",
       "      <td>Toy Story (1995)</td>\n",
       "      <td>Adventure|Animation|Children|Comedy|Fantasy</td>\n",
       "    </tr>\n",
       "    <tr>\n",
       "      <th>7</th>\n",
       "      <td>21</td>\n",
       "      <td>1</td>\n",
       "      <td>3.5</td>\n",
       "      <td>1407618878</td>\n",
       "      <td>Toy Story (1995)</td>\n",
       "      <td>Adventure|Animation|Children|Comedy|Fantasy</td>\n",
       "    </tr>\n",
       "    <tr>\n",
       "      <th>8</th>\n",
       "      <td>27</td>\n",
       "      <td>1</td>\n",
       "      <td>3.0</td>\n",
       "      <td>962685262</td>\n",
       "      <td>Toy Story (1995)</td>\n",
       "      <td>Adventure|Animation|Children|Comedy|Fantasy</td>\n",
       "    </tr>\n",
       "    <tr>\n",
       "      <th>9</th>\n",
       "      <td>31</td>\n",
       "      <td>1</td>\n",
       "      <td>5.0</td>\n",
       "      <td>850466616</td>\n",
       "      <td>Toy Story (1995)</td>\n",
       "      <td>Adventure|Animation|Children|Comedy|Fantasy</td>\n",
       "    </tr>\n",
       "  </tbody>\n",
       "</table>\n",
       "</div>"
      ],
      "text/plain": [
       "   userId  movieId  rating   timestamp             title  \\\n",
       "0       1        1     4.0   964982703  Toy Story (1995)   \n",
       "1       5        1     4.0   847434962  Toy Story (1995)   \n",
       "2       7        1     4.5  1106635946  Toy Story (1995)   \n",
       "3      15        1     2.5  1510577970  Toy Story (1995)   \n",
       "4      17        1     4.5  1305696483  Toy Story (1995)   \n",
       "5      18        1     3.5  1455209816  Toy Story (1995)   \n",
       "6      19        1     4.0   965705637  Toy Story (1995)   \n",
       "7      21        1     3.5  1407618878  Toy Story (1995)   \n",
       "8      27        1     3.0   962685262  Toy Story (1995)   \n",
       "9      31        1     5.0   850466616  Toy Story (1995)   \n",
       "\n",
       "                                        genres  \n",
       "0  Adventure|Animation|Children|Comedy|Fantasy  \n",
       "1  Adventure|Animation|Children|Comedy|Fantasy  \n",
       "2  Adventure|Animation|Children|Comedy|Fantasy  \n",
       "3  Adventure|Animation|Children|Comedy|Fantasy  \n",
       "4  Adventure|Animation|Children|Comedy|Fantasy  \n",
       "5  Adventure|Animation|Children|Comedy|Fantasy  \n",
       "6  Adventure|Animation|Children|Comedy|Fantasy  \n",
       "7  Adventure|Animation|Children|Comedy|Fantasy  \n",
       "8  Adventure|Animation|Children|Comedy|Fantasy  \n",
       "9  Adventure|Animation|Children|Comedy|Fantasy  "
      ]
     },
     "execution_count": 21,
     "metadata": {},
     "output_type": "execute_result"
    }
   ],
   "source": [
    "ml_df = pd.merge(ml_ratings_df, ml_movies_df, on='movieId')\n",
    "ml_df.head(10)"
   ]
  },
  {
   "cell_type": "markdown",
   "id": "lightweight-constitution",
   "metadata": {
    "pycharm": {
     "name": "#%% md\n"
    }
   },
   "source": [
    "## Choosing rows or columns"
   ]
  },
  {
   "cell_type": "markdown",
   "id": "regulated-calvin",
   "metadata": {
    "pycharm": {
     "name": "#%% md\n"
    }
   },
   "source": [
    "### Choosing rows"
   ]
  },
  {
   "cell_type": "code",
   "execution_count": 21,
   "id": "excited-interface",
   "metadata": {
    "pycharm": {
     "name": "#%%\n"
    }
   },
   "outputs": [
    {
     "data": {
      "text/html": [
       "<div>\n",
       "<style scoped>\n",
       "    .dataframe tbody tr th:only-of-type {\n",
       "        vertical-align: middle;\n",
       "    }\n",
       "\n",
       "    .dataframe tbody tr th {\n",
       "        vertical-align: top;\n",
       "    }\n",
       "\n",
       "    .dataframe thead th {\n",
       "        text-align: right;\n",
       "    }\n",
       "</style>\n",
       "<table border=\"1\" class=\"dataframe\">\n",
       "  <thead>\n",
       "    <tr style=\"text-align: right;\">\n",
       "      <th></th>\n",
       "      <th>user-id</th>\n",
       "      <th>game-title</th>\n",
       "      <th>behavior-name</th>\n",
       "      <th>value</th>\n",
       "      <th>zero</th>\n",
       "    </tr>\n",
       "  </thead>\n",
       "  <tbody>\n",
       "    <tr>\n",
       "      <th>3</th>\n",
       "      <td>151603712</td>\n",
       "      <td>The Elder Scrolls V Skyrim</td>\n",
       "      <td>purchase</td>\n",
       "      <td>1.0</td>\n",
       "      <td>0</td>\n",
       "    </tr>\n",
       "    <tr>\n",
       "      <th>4</th>\n",
       "      <td>151603712</td>\n",
       "      <td>The Elder Scrolls V Skyrim</td>\n",
       "      <td>play</td>\n",
       "      <td>273.0</td>\n",
       "      <td>0</td>\n",
       "    </tr>\n",
       "    <tr>\n",
       "      <th>5</th>\n",
       "      <td>151603712</td>\n",
       "      <td>Fallout 4</td>\n",
       "      <td>purchase</td>\n",
       "      <td>1.0</td>\n",
       "      <td>0</td>\n",
       "    </tr>\n",
       "    <tr>\n",
       "      <th>6</th>\n",
       "      <td>151603712</td>\n",
       "      <td>Fallout 4</td>\n",
       "      <td>play</td>\n",
       "      <td>87.0</td>\n",
       "      <td>0</td>\n",
       "    </tr>\n",
       "    <tr>\n",
       "      <th>7</th>\n",
       "      <td>151603712</td>\n",
       "      <td>Spore</td>\n",
       "      <td>purchase</td>\n",
       "      <td>1.0</td>\n",
       "      <td>0</td>\n",
       "    </tr>\n",
       "    <tr>\n",
       "      <th>8</th>\n",
       "      <td>151603712</td>\n",
       "      <td>Spore</td>\n",
       "      <td>play</td>\n",
       "      <td>14.9</td>\n",
       "      <td>0</td>\n",
       "    </tr>\n",
       "    <tr>\n",
       "      <th>9</th>\n",
       "      <td>151603712</td>\n",
       "      <td>Fallout New Vegas</td>\n",
       "      <td>purchase</td>\n",
       "      <td>1.0</td>\n",
       "      <td>0</td>\n",
       "    </tr>\n",
       "    <tr>\n",
       "      <th>10</th>\n",
       "      <td>151603712</td>\n",
       "      <td>Fallout New Vegas</td>\n",
       "      <td>play</td>\n",
       "      <td>12.1</td>\n",
       "      <td>0</td>\n",
       "    </tr>\n",
       "    <tr>\n",
       "      <th>11</th>\n",
       "      <td>151603712</td>\n",
       "      <td>Left 4 Dead 2</td>\n",
       "      <td>purchase</td>\n",
       "      <td>1.0</td>\n",
       "      <td>0</td>\n",
       "    </tr>\n",
       "    <tr>\n",
       "      <th>12</th>\n",
       "      <td>151603712</td>\n",
       "      <td>Left 4 Dead 2</td>\n",
       "      <td>play</td>\n",
       "      <td>8.9</td>\n",
       "      <td>0</td>\n",
       "    </tr>\n",
       "  </tbody>\n",
       "</table>\n",
       "</div>"
      ],
      "text/plain": [
       "      user-id                  game-title behavior-name  value  zero\n",
       "3   151603712  The Elder Scrolls V Skyrim      purchase    1.0     0\n",
       "4   151603712  The Elder Scrolls V Skyrim          play  273.0     0\n",
       "5   151603712                   Fallout 4      purchase    1.0     0\n",
       "6   151603712                   Fallout 4          play   87.0     0\n",
       "7   151603712                       Spore      purchase    1.0     0\n",
       "8   151603712                       Spore          play   14.9     0\n",
       "9   151603712           Fallout New Vegas      purchase    1.0     0\n",
       "10  151603712           Fallout New Vegas          play   12.1     0\n",
       "11  151603712               Left 4 Dead 2      purchase    1.0     0\n",
       "12  151603712               Left 4 Dead 2          play    8.9     0"
      ]
     },
     "metadata": {},
     "output_type": "display_data"
    },
    {
     "name": "stdout",
     "output_type": "stream",
     "text": [
      "Choosing rows by index\n"
     ]
    },
    {
     "data": {
      "text/html": [
       "<div>\n",
       "<style scoped>\n",
       "    .dataframe tbody tr th:only-of-type {\n",
       "        vertical-align: middle;\n",
       "    }\n",
       "\n",
       "    .dataframe tbody tr th {\n",
       "        vertical-align: top;\n",
       "    }\n",
       "\n",
       "    .dataframe thead th {\n",
       "        text-align: right;\n",
       "    }\n",
       "</style>\n",
       "<table border=\"1\" class=\"dataframe\">\n",
       "  <thead>\n",
       "    <tr style=\"text-align: right;\">\n",
       "      <th></th>\n",
       "      <th>user-id</th>\n",
       "      <th>game-title</th>\n",
       "      <th>behavior-name</th>\n",
       "      <th>value</th>\n",
       "      <th>zero</th>\n",
       "    </tr>\n",
       "  </thead>\n",
       "  <tbody>\n",
       "    <tr>\n",
       "      <th>3</th>\n",
       "      <td>151603712</td>\n",
       "      <td>The Elder Scrolls V Skyrim</td>\n",
       "      <td>purchase</td>\n",
       "      <td>1.0</td>\n",
       "      <td>0</td>\n",
       "    </tr>\n",
       "    <tr>\n",
       "      <th>4</th>\n",
       "      <td>151603712</td>\n",
       "      <td>The Elder Scrolls V Skyrim</td>\n",
       "      <td>play</td>\n",
       "      <td>273.0</td>\n",
       "      <td>0</td>\n",
       "    </tr>\n",
       "    <tr>\n",
       "      <th>5</th>\n",
       "      <td>151603712</td>\n",
       "      <td>Fallout 4</td>\n",
       "      <td>purchase</td>\n",
       "      <td>1.0</td>\n",
       "      <td>0</td>\n",
       "    </tr>\n",
       "    <tr>\n",
       "      <th>6</th>\n",
       "      <td>151603712</td>\n",
       "      <td>Fallout 4</td>\n",
       "      <td>play</td>\n",
       "      <td>87.0</td>\n",
       "      <td>0</td>\n",
       "    </tr>\n",
       "  </tbody>\n",
       "</table>\n",
       "</div>"
      ],
      "text/plain": [
       "     user-id                  game-title behavior-name  value  zero\n",
       "3  151603712  The Elder Scrolls V Skyrim      purchase    1.0     0\n",
       "4  151603712  The Elder Scrolls V Skyrim          play  273.0     0\n",
       "5  151603712                   Fallout 4      purchase    1.0     0\n",
       "6  151603712                   Fallout 4          play   87.0     0"
      ]
     },
     "metadata": {},
     "output_type": "display_data"
    },
    {
     "name": "stdout",
     "output_type": "stream",
     "text": [
      "Choosing rows by position\n"
     ]
    },
    {
     "data": {
      "text/html": [
       "<div>\n",
       "<style scoped>\n",
       "    .dataframe tbody tr th:only-of-type {\n",
       "        vertical-align: middle;\n",
       "    }\n",
       "\n",
       "    .dataframe tbody tr th {\n",
       "        vertical-align: top;\n",
       "    }\n",
       "\n",
       "    .dataframe thead th {\n",
       "        text-align: right;\n",
       "    }\n",
       "</style>\n",
       "<table border=\"1\" class=\"dataframe\">\n",
       "  <thead>\n",
       "    <tr style=\"text-align: right;\">\n",
       "      <th></th>\n",
       "      <th>user-id</th>\n",
       "      <th>game-title</th>\n",
       "      <th>behavior-name</th>\n",
       "      <th>value</th>\n",
       "      <th>zero</th>\n",
       "    </tr>\n",
       "  </thead>\n",
       "  <tbody>\n",
       "    <tr>\n",
       "      <th>6</th>\n",
       "      <td>151603712</td>\n",
       "      <td>Fallout 4</td>\n",
       "      <td>play</td>\n",
       "      <td>87.0</td>\n",
       "      <td>0</td>\n",
       "    </tr>\n",
       "    <tr>\n",
       "      <th>7</th>\n",
       "      <td>151603712</td>\n",
       "      <td>Spore</td>\n",
       "      <td>purchase</td>\n",
       "      <td>1.0</td>\n",
       "      <td>0</td>\n",
       "    </tr>\n",
       "    <tr>\n",
       "      <th>8</th>\n",
       "      <td>151603712</td>\n",
       "      <td>Spore</td>\n",
       "      <td>play</td>\n",
       "      <td>14.9</td>\n",
       "      <td>0</td>\n",
       "    </tr>\n",
       "  </tbody>\n",
       "</table>\n",
       "</div>"
      ],
      "text/plain": [
       "     user-id game-title behavior-name  value  zero\n",
       "6  151603712  Fallout 4          play   87.0     0\n",
       "7  151603712      Spore      purchase    1.0     0\n",
       "8  151603712      Spore          play   14.9     0"
      ]
     },
     "metadata": {},
     "output_type": "display_data"
    }
   ],
   "source": [
    "steam_df_copy = steam_df.copy()\n",
    "steam_df_copy.index = np.array(list(range(len(steam_df_copy)))) + 3\n",
    "display(steam_df_copy.head(10))\n",
    "\n",
    "# Choosing rows by index\n",
    "chosen_df = steam_df_copy.loc[3:6]\n",
    "\n",
    "print(\"Choosing rows by index\")\n",
    "display(chosen_df.head(10))\n",
    "\n",
    "# Choosing rows by position\n",
    "chosen_df = steam_df_copy.iloc[3:6]\n",
    "\n",
    "print(\"Choosing rows by position\")\n",
    "display(chosen_df.head(10))"
   ]
  },
  {
   "cell_type": "markdown",
   "id": "small-driver",
   "metadata": {
    "pycharm": {
     "name": "#%% md\n"
    }
   },
   "source": [
    "### Choosing a column"
   ]
  },
  {
   "cell_type": "code",
   "execution_count": 22,
   "id": "reflected-banner",
   "metadata": {
    "pycharm": {
     "name": "#%%\n"
    }
   },
   "outputs": [
    {
     "name": "stdout",
     "output_type": "stream",
     "text": [
      "Type: <class 'pandas.core.series.Series'>\n"
     ]
    },
    {
     "data": {
      "text/plain": [
       "0    The Elder Scrolls V Skyrim\n",
       "1    The Elder Scrolls V Skyrim\n",
       "2                     Fallout 4\n",
       "3                     Fallout 4\n",
       "4                         Spore\n",
       "5                         Spore\n",
       "6             Fallout New Vegas\n",
       "7             Fallout New Vegas\n",
       "8                 Left 4 Dead 2\n",
       "9                 Left 4 Dead 2\n",
       "Name: game-title, dtype: object"
      ]
     },
     "metadata": {},
     "output_type": "display_data"
    }
   ],
   "source": [
    "chosen_df = steam_df['game-title']\n",
    "\n",
    "print(\"Type: {}\".format(type(chosen_df)))\n",
    "display(chosen_df.head(10))"
   ]
  },
  {
   "cell_type": "markdown",
   "id": "underlying-marking",
   "metadata": {
    "pycharm": {
     "name": "#%% md\n"
    }
   },
   "source": [
    "### Choosing several columns"
   ]
  },
  {
   "cell_type": "code",
   "execution_count": 23,
   "id": "efficient-humidity",
   "metadata": {
    "pycharm": {
     "name": "#%%\n"
    }
   },
   "outputs": [
    {
     "data": {
      "text/html": [
       "<div>\n",
       "<style scoped>\n",
       "    .dataframe tbody tr th:only-of-type {\n",
       "        vertical-align: middle;\n",
       "    }\n",
       "\n",
       "    .dataframe tbody tr th {\n",
       "        vertical-align: top;\n",
       "    }\n",
       "\n",
       "    .dataframe thead th {\n",
       "        text-align: right;\n",
       "    }\n",
       "</style>\n",
       "<table border=\"1\" class=\"dataframe\">\n",
       "  <thead>\n",
       "    <tr style=\"text-align: right;\">\n",
       "      <th></th>\n",
       "      <th>user-id</th>\n",
       "      <th>game-title</th>\n",
       "    </tr>\n",
       "  </thead>\n",
       "  <tbody>\n",
       "    <tr>\n",
       "      <th>0</th>\n",
       "      <td>151603712</td>\n",
       "      <td>The Elder Scrolls V Skyrim</td>\n",
       "    </tr>\n",
       "    <tr>\n",
       "      <th>1</th>\n",
       "      <td>151603712</td>\n",
       "      <td>The Elder Scrolls V Skyrim</td>\n",
       "    </tr>\n",
       "    <tr>\n",
       "      <th>2</th>\n",
       "      <td>151603712</td>\n",
       "      <td>Fallout 4</td>\n",
       "    </tr>\n",
       "    <tr>\n",
       "      <th>3</th>\n",
       "      <td>151603712</td>\n",
       "      <td>Fallout 4</td>\n",
       "    </tr>\n",
       "    <tr>\n",
       "      <th>4</th>\n",
       "      <td>151603712</td>\n",
       "      <td>Spore</td>\n",
       "    </tr>\n",
       "    <tr>\n",
       "      <th>5</th>\n",
       "      <td>151603712</td>\n",
       "      <td>Spore</td>\n",
       "    </tr>\n",
       "    <tr>\n",
       "      <th>6</th>\n",
       "      <td>151603712</td>\n",
       "      <td>Fallout New Vegas</td>\n",
       "    </tr>\n",
       "    <tr>\n",
       "      <th>7</th>\n",
       "      <td>151603712</td>\n",
       "      <td>Fallout New Vegas</td>\n",
       "    </tr>\n",
       "    <tr>\n",
       "      <th>8</th>\n",
       "      <td>151603712</td>\n",
       "      <td>Left 4 Dead 2</td>\n",
       "    </tr>\n",
       "    <tr>\n",
       "      <th>9</th>\n",
       "      <td>151603712</td>\n",
       "      <td>Left 4 Dead 2</td>\n",
       "    </tr>\n",
       "  </tbody>\n",
       "</table>\n",
       "</div>"
      ],
      "text/plain": [
       "     user-id                  game-title\n",
       "0  151603712  The Elder Scrolls V Skyrim\n",
       "1  151603712  The Elder Scrolls V Skyrim\n",
       "2  151603712                   Fallout 4\n",
       "3  151603712                   Fallout 4\n",
       "4  151603712                       Spore\n",
       "5  151603712                       Spore\n",
       "6  151603712           Fallout New Vegas\n",
       "7  151603712           Fallout New Vegas\n",
       "8  151603712               Left 4 Dead 2\n",
       "9  151603712               Left 4 Dead 2"
      ]
     },
     "metadata": {},
     "output_type": "display_data"
    }
   ],
   "source": [
    "chosen_df = steam_df[['user-id', 'game-title']]\n",
    "\n",
    "display(chosen_df.head(10))"
   ]
  },
  {
   "cell_type": "markdown",
   "id": "expired-privilege",
   "metadata": {
    "pycharm": {
     "name": "#%% md\n"
    }
   },
   "source": [
    "### Splitting the dataset into training and test set"
   ]
  },
  {
   "cell_type": "code",
   "execution_count": 24,
   "id": "mobile-pointer",
   "metadata": {
    "pycharm": {
     "name": "#%%\n"
    }
   },
   "outputs": [
    {
     "name": "stdout",
     "output_type": "stream",
     "text": [
      "Shuffled range of indices\n",
      "[107252, 32752, 171401, 164824, 32810, 127879, 186390, 106393, 13384, 194929, 86266, 68978, 138065, 966, 148242, 114521, 62869, 65075, 145055, 71825]\n",
      "\n"
     ]
    },
    {
     "data": {
      "text/html": [
       "<div>\n",
       "<style scoped>\n",
       "    .dataframe tbody tr th:only-of-type {\n",
       "        vertical-align: middle;\n",
       "    }\n",
       "\n",
       "    .dataframe tbody tr th {\n",
       "        vertical-align: top;\n",
       "    }\n",
       "\n",
       "    .dataframe thead th {\n",
       "        text-align: right;\n",
       "    }\n",
       "</style>\n",
       "<table border=\"1\" class=\"dataframe\">\n",
       "  <thead>\n",
       "    <tr style=\"text-align: right;\">\n",
       "      <th></th>\n",
       "      <th>user-id</th>\n",
       "      <th>game-title</th>\n",
       "      <th>behavior-name</th>\n",
       "      <th>value</th>\n",
       "      <th>zero</th>\n",
       "    </tr>\n",
       "  </thead>\n",
       "  <tbody>\n",
       "    <tr>\n",
       "      <th>107252</th>\n",
       "      <td>27279261</td>\n",
       "      <td>Plants vs. Zombies Game of the Year</td>\n",
       "      <td>play</td>\n",
       "      <td>4.3</td>\n",
       "      <td>0</td>\n",
       "    </tr>\n",
       "    <tr>\n",
       "      <th>32752</th>\n",
       "      <td>86912006</td>\n",
       "      <td>Arcane Saga Online</td>\n",
       "      <td>purchase</td>\n",
       "      <td>1.0</td>\n",
       "      <td>0</td>\n",
       "    </tr>\n",
       "    <tr>\n",
       "      <th>171401</th>\n",
       "      <td>112849197</td>\n",
       "      <td>Counter-Strike Global Offensive</td>\n",
       "      <td>play</td>\n",
       "      <td>986.0</td>\n",
       "      <td>0</td>\n",
       "    </tr>\n",
       "    <tr>\n",
       "      <th>164824</th>\n",
       "      <td>44314169</td>\n",
       "      <td>resident evil 4 / biohazard 4</td>\n",
       "      <td>play</td>\n",
       "      <td>21.0</td>\n",
       "      <td>0</td>\n",
       "    </tr>\n",
       "    <tr>\n",
       "      <th>32810</th>\n",
       "      <td>86912006</td>\n",
       "      <td>Dino D-Day</td>\n",
       "      <td>purchase</td>\n",
       "      <td>1.0</td>\n",
       "      <td>0</td>\n",
       "    </tr>\n",
       "    <tr>\n",
       "      <th>127879</th>\n",
       "      <td>90033155</td>\n",
       "      <td>Magic Duels</td>\n",
       "      <td>purchase</td>\n",
       "      <td>1.0</td>\n",
       "      <td>0</td>\n",
       "    </tr>\n",
       "    <tr>\n",
       "      <th>186390</th>\n",
       "      <td>47457723</td>\n",
       "      <td>Icewind Dale Enhanced Edition</td>\n",
       "      <td>play</td>\n",
       "      <td>0.1</td>\n",
       "      <td>0</td>\n",
       "    </tr>\n",
       "    <tr>\n",
       "      <th>106393</th>\n",
       "      <td>71510748</td>\n",
       "      <td>Amnesia The Dark Descent</td>\n",
       "      <td>purchase</td>\n",
       "      <td>1.0</td>\n",
       "      <td>0</td>\n",
       "    </tr>\n",
       "    <tr>\n",
       "      <th>13384</th>\n",
       "      <td>32467994</td>\n",
       "      <td>Shadowrun Dragonfall - Director's Cut</td>\n",
       "      <td>purchase</td>\n",
       "      <td>1.0</td>\n",
       "      <td>0</td>\n",
       "    </tr>\n",
       "    <tr>\n",
       "      <th>194929</th>\n",
       "      <td>244335912</td>\n",
       "      <td>Block N Load</td>\n",
       "      <td>purchase</td>\n",
       "      <td>1.0</td>\n",
       "      <td>0</td>\n",
       "    </tr>\n",
       "  </tbody>\n",
       "</table>\n",
       "</div>"
      ],
      "text/plain": [
       "          user-id                             game-title behavior-name  value  \\\n",
       "107252   27279261    Plants vs. Zombies Game of the Year          play    4.3   \n",
       "32752    86912006                     Arcane Saga Online      purchase    1.0   \n",
       "171401  112849197        Counter-Strike Global Offensive          play  986.0   \n",
       "164824   44314169          resident evil 4 / biohazard 4          play   21.0   \n",
       "32810    86912006                             Dino D-Day      purchase    1.0   \n",
       "127879   90033155                            Magic Duels      purchase    1.0   \n",
       "186390   47457723          Icewind Dale Enhanced Edition          play    0.1   \n",
       "106393   71510748               Amnesia The Dark Descent      purchase    1.0   \n",
       "13384    32467994  Shadowrun Dragonfall - Director's Cut      purchase    1.0   \n",
       "194929  244335912                           Block N Load      purchase    1.0   \n",
       "\n",
       "        zero  \n",
       "107252     0  \n",
       "32752      0  \n",
       "171401     0  \n",
       "164824     0  \n",
       "32810      0  \n",
       "127879     0  \n",
       "186390     0  \n",
       "106393     0  \n",
       "13384      0  \n",
       "194929     0  "
      ]
     },
     "metadata": {},
     "output_type": "display_data"
    },
    {
     "data": {
      "text/html": [
       "<div>\n",
       "<style scoped>\n",
       "    .dataframe tbody tr th:only-of-type {\n",
       "        vertical-align: middle;\n",
       "    }\n",
       "\n",
       "    .dataframe tbody tr th {\n",
       "        vertical-align: top;\n",
       "    }\n",
       "\n",
       "    .dataframe thead th {\n",
       "        text-align: right;\n",
       "    }\n",
       "</style>\n",
       "<table border=\"1\" class=\"dataframe\">\n",
       "  <thead>\n",
       "    <tr style=\"text-align: right;\">\n",
       "      <th></th>\n",
       "      <th>user-id</th>\n",
       "      <th>game-title</th>\n",
       "      <th>behavior-name</th>\n",
       "      <th>value</th>\n",
       "      <th>zero</th>\n",
       "    </tr>\n",
       "  </thead>\n",
       "  <tbody>\n",
       "    <tr>\n",
       "      <th>73232</th>\n",
       "      <td>132014951</td>\n",
       "      <td>Soccer Manager 2016</td>\n",
       "      <td>play</td>\n",
       "      <td>0.1</td>\n",
       "      <td>0</td>\n",
       "    </tr>\n",
       "    <tr>\n",
       "      <th>139571</th>\n",
       "      <td>2753525</td>\n",
       "      <td>Battlefield 2</td>\n",
       "      <td>play</td>\n",
       "      <td>0.3</td>\n",
       "      <td>0</td>\n",
       "    </tr>\n",
       "    <tr>\n",
       "      <th>176095</th>\n",
       "      <td>104830836</td>\n",
       "      <td>Call of Duty Black Ops II - Zombies</td>\n",
       "      <td>play</td>\n",
       "      <td>0.2</td>\n",
       "      <td>0</td>\n",
       "    </tr>\n",
       "    <tr>\n",
       "      <th>38854</th>\n",
       "      <td>110906645</td>\n",
       "      <td>Just Cause 2</td>\n",
       "      <td>purchase</td>\n",
       "      <td>1.0</td>\n",
       "      <td>0</td>\n",
       "    </tr>\n",
       "    <tr>\n",
       "      <th>31588</th>\n",
       "      <td>191477470</td>\n",
       "      <td>Call of Duty Black Ops II - Zombies</td>\n",
       "      <td>purchase</td>\n",
       "      <td>1.0</td>\n",
       "      <td>0</td>\n",
       "    </tr>\n",
       "    <tr>\n",
       "      <th>191961</th>\n",
       "      <td>91807066</td>\n",
       "      <td>Dragon Age Origins</td>\n",
       "      <td>play</td>\n",
       "      <td>14.9</td>\n",
       "      <td>0</td>\n",
       "    </tr>\n",
       "    <tr>\n",
       "      <th>65940</th>\n",
       "      <td>64973908</td>\n",
       "      <td>Ticket to Ride</td>\n",
       "      <td>purchase</td>\n",
       "      <td>1.0</td>\n",
       "      <td>0</td>\n",
       "    </tr>\n",
       "    <tr>\n",
       "      <th>56351</th>\n",
       "      <td>122798021</td>\n",
       "      <td>Don't Starve Together Beta</td>\n",
       "      <td>purchase</td>\n",
       "      <td>1.0</td>\n",
       "      <td>0</td>\n",
       "    </tr>\n",
       "    <tr>\n",
       "      <th>28952</th>\n",
       "      <td>116617462</td>\n",
       "      <td>Rome Total War - Alexander</td>\n",
       "      <td>play</td>\n",
       "      <td>0.5</td>\n",
       "      <td>0</td>\n",
       "    </tr>\n",
       "    <tr>\n",
       "      <th>53344</th>\n",
       "      <td>46301758</td>\n",
       "      <td>Frozen Synapse</td>\n",
       "      <td>purchase</td>\n",
       "      <td>1.0</td>\n",
       "      <td>0</td>\n",
       "    </tr>\n",
       "  </tbody>\n",
       "</table>\n",
       "</div>"
      ],
      "text/plain": [
       "          user-id                           game-title behavior-name  value  \\\n",
       "73232   132014951                  Soccer Manager 2016          play    0.1   \n",
       "139571    2753525                        Battlefield 2          play    0.3   \n",
       "176095  104830836  Call of Duty Black Ops II - Zombies          play    0.2   \n",
       "38854   110906645                         Just Cause 2      purchase    1.0   \n",
       "31588   191477470  Call of Duty Black Ops II - Zombies      purchase    1.0   \n",
       "191961   91807066                   Dragon Age Origins          play   14.9   \n",
       "65940    64973908                       Ticket to Ride      purchase    1.0   \n",
       "56351   122798021           Don't Starve Together Beta      purchase    1.0   \n",
       "28952   116617462           Rome Total War - Alexander          play    0.5   \n",
       "53344    46301758                       Frozen Synapse      purchase    1.0   \n",
       "\n",
       "        zero  \n",
       "73232      0  \n",
       "139571     0  \n",
       "176095     0  \n",
       "38854      0  \n",
       "31588      0  \n",
       "191961     0  \n",
       "65940      0  \n",
       "56351      0  \n",
       "28952      0  \n",
       "53344      0  "
      ]
     },
     "metadata": {},
     "output_type": "display_data"
    }
   ],
   "source": [
    "shuffle = np.array(list(range(len(steam_df))))\n",
    "\n",
    "# alternatively\n",
    "\n",
    "shuffle = np.arange(len(steam_df))\n",
    "\n",
    "np.random.shuffle(shuffle)\n",
    "shuffle = list(shuffle)\n",
    "print(\"Shuffled range of indices\")\n",
    "print(shuffle[:20])\n",
    "print()\n",
    "\n",
    "train_test_split = 0.8\n",
    "split_index = int(len(steam_df) * train_test_split)\n",
    "\n",
    "training_set = steam_df.iloc[shuffle[:split_index]]\n",
    "test_set = steam_df.iloc[shuffle[split_index:]]\n",
    "\n",
    "display(training_set.head(10))\n",
    "\n",
    "display(test_set.head(10))"
   ]
  },
  {
   "cell_type": "markdown",
   "id": "outside-twist",
   "metadata": {
    "pycharm": {
     "name": "#%% md\n"
    }
   },
   "source": [
    "## Filtering"
   ]
  },
  {
   "cell_type": "markdown",
   "id": "otherwise-rachel",
   "metadata": {
    "pycharm": {
     "name": "#%% md\n"
    }
   },
   "source": [
    "### Filtering columns"
   ]
  },
  {
   "cell_type": "code",
   "execution_count": 25,
   "id": "numerical-pride",
   "metadata": {
    "pycharm": {
     "name": "#%%\n"
    }
   },
   "outputs": [
    {
     "name": "stdout",
     "output_type": "stream",
     "text": [
      "Type: <class 'pandas.core.series.Series'>\n"
     ]
    },
    {
     "data": {
      "text/plain": [
       "0    The Elder Scrolls V Skyrim\n",
       "1    The Elder Scrolls V Skyrim\n",
       "2                     Fallout 4\n",
       "3                     Fallout 4\n",
       "4                         Spore\n",
       "5                         Spore\n",
       "6             Fallout New Vegas\n",
       "7             Fallout New Vegas\n",
       "8                 Left 4 Dead 2\n",
       "9                 Left 4 Dead 2\n",
       "Name: game-title, dtype: object"
      ]
     },
     "metadata": {},
     "output_type": "display_data"
    },
    {
     "name": "stdout",
     "output_type": "stream",
     "text": [
      "\n",
      "Type: <class 'pandas.core.frame.DataFrame'>\n"
     ]
    },
    {
     "data": {
      "text/html": [
       "<div>\n",
       "<style scoped>\n",
       "    .dataframe tbody tr th:only-of-type {\n",
       "        vertical-align: middle;\n",
       "    }\n",
       "\n",
       "    .dataframe tbody tr th {\n",
       "        vertical-align: top;\n",
       "    }\n",
       "\n",
       "    .dataframe thead th {\n",
       "        text-align: right;\n",
       "    }\n",
       "</style>\n",
       "<table border=\"1\" class=\"dataframe\">\n",
       "  <thead>\n",
       "    <tr style=\"text-align: right;\">\n",
       "      <th></th>\n",
       "      <th>game-title</th>\n",
       "    </tr>\n",
       "  </thead>\n",
       "  <tbody>\n",
       "    <tr>\n",
       "      <th>0</th>\n",
       "      <td>The Elder Scrolls V Skyrim</td>\n",
       "    </tr>\n",
       "    <tr>\n",
       "      <th>1</th>\n",
       "      <td>The Elder Scrolls V Skyrim</td>\n",
       "    </tr>\n",
       "    <tr>\n",
       "      <th>2</th>\n",
       "      <td>Fallout 4</td>\n",
       "    </tr>\n",
       "    <tr>\n",
       "      <th>3</th>\n",
       "      <td>Fallout 4</td>\n",
       "    </tr>\n",
       "    <tr>\n",
       "      <th>4</th>\n",
       "      <td>Spore</td>\n",
       "    </tr>\n",
       "    <tr>\n",
       "      <th>5</th>\n",
       "      <td>Spore</td>\n",
       "    </tr>\n",
       "    <tr>\n",
       "      <th>6</th>\n",
       "      <td>Fallout New Vegas</td>\n",
       "    </tr>\n",
       "    <tr>\n",
       "      <th>7</th>\n",
       "      <td>Fallout New Vegas</td>\n",
       "    </tr>\n",
       "    <tr>\n",
       "      <th>8</th>\n",
       "      <td>Left 4 Dead 2</td>\n",
       "    </tr>\n",
       "    <tr>\n",
       "      <th>9</th>\n",
       "      <td>Left 4 Dead 2</td>\n",
       "    </tr>\n",
       "  </tbody>\n",
       "</table>\n",
       "</div>"
      ],
      "text/plain": [
       "                   game-title\n",
       "0  The Elder Scrolls V Skyrim\n",
       "1  The Elder Scrolls V Skyrim\n",
       "2                   Fallout 4\n",
       "3                   Fallout 4\n",
       "4                       Spore\n",
       "5                       Spore\n",
       "6           Fallout New Vegas\n",
       "7           Fallout New Vegas\n",
       "8               Left 4 Dead 2\n",
       "9               Left 4 Dead 2"
      ]
     },
     "metadata": {},
     "output_type": "display_data"
    },
    {
     "name": "stdout",
     "output_type": "stream",
     "text": [
      "\n",
      "Type: <class 'pandas.core.frame.DataFrame'>\n"
     ]
    },
    {
     "data": {
      "text/html": [
       "<div>\n",
       "<style scoped>\n",
       "    .dataframe tbody tr th:only-of-type {\n",
       "        vertical-align: middle;\n",
       "    }\n",
       "\n",
       "    .dataframe tbody tr th {\n",
       "        vertical-align: top;\n",
       "    }\n",
       "\n",
       "    .dataframe thead th {\n",
       "        text-align: right;\n",
       "    }\n",
       "</style>\n",
       "<table border=\"1\" class=\"dataframe\">\n",
       "  <thead>\n",
       "    <tr style=\"text-align: right;\">\n",
       "      <th></th>\n",
       "      <th>user-id</th>\n",
       "      <th>game-title</th>\n",
       "    </tr>\n",
       "  </thead>\n",
       "  <tbody>\n",
       "    <tr>\n",
       "      <th>0</th>\n",
       "      <td>151603712</td>\n",
       "      <td>The Elder Scrolls V Skyrim</td>\n",
       "    </tr>\n",
       "    <tr>\n",
       "      <th>1</th>\n",
       "      <td>151603712</td>\n",
       "      <td>The Elder Scrolls V Skyrim</td>\n",
       "    </tr>\n",
       "    <tr>\n",
       "      <th>2</th>\n",
       "      <td>151603712</td>\n",
       "      <td>Fallout 4</td>\n",
       "    </tr>\n",
       "    <tr>\n",
       "      <th>3</th>\n",
       "      <td>151603712</td>\n",
       "      <td>Fallout 4</td>\n",
       "    </tr>\n",
       "    <tr>\n",
       "      <th>4</th>\n",
       "      <td>151603712</td>\n",
       "      <td>Spore</td>\n",
       "    </tr>\n",
       "    <tr>\n",
       "      <th>5</th>\n",
       "      <td>151603712</td>\n",
       "      <td>Spore</td>\n",
       "    </tr>\n",
       "    <tr>\n",
       "      <th>6</th>\n",
       "      <td>151603712</td>\n",
       "      <td>Fallout New Vegas</td>\n",
       "    </tr>\n",
       "    <tr>\n",
       "      <th>7</th>\n",
       "      <td>151603712</td>\n",
       "      <td>Fallout New Vegas</td>\n",
       "    </tr>\n",
       "    <tr>\n",
       "      <th>8</th>\n",
       "      <td>151603712</td>\n",
       "      <td>Left 4 Dead 2</td>\n",
       "    </tr>\n",
       "    <tr>\n",
       "      <th>9</th>\n",
       "      <td>151603712</td>\n",
       "      <td>Left 4 Dead 2</td>\n",
       "    </tr>\n",
       "  </tbody>\n",
       "</table>\n",
       "</div>"
      ],
      "text/plain": [
       "     user-id                  game-title\n",
       "0  151603712  The Elder Scrolls V Skyrim\n",
       "1  151603712  The Elder Scrolls V Skyrim\n",
       "2  151603712                   Fallout 4\n",
       "3  151603712                   Fallout 4\n",
       "4  151603712                       Spore\n",
       "5  151603712                       Spore\n",
       "6  151603712           Fallout New Vegas\n",
       "7  151603712           Fallout New Vegas\n",
       "8  151603712               Left 4 Dead 2\n",
       "9  151603712               Left 4 Dead 2"
      ]
     },
     "metadata": {},
     "output_type": "display_data"
    }
   ],
   "source": [
    "chosen_df = steam_df.loc[:, 'game-title']\n",
    "\n",
    "print(\"Type: {}\".format(type(chosen_df)))\n",
    "display(chosen_df.head(10))\n",
    "print()\n",
    "\n",
    "chosen_df = steam_df.loc[:, ['game-title']]\n",
    "\n",
    "print(\"Type: {}\".format(type(chosen_df)))\n",
    "display(chosen_df.head(10))\n",
    "print()\n",
    "\n",
    "chosen_df = steam_df.loc[:, ['user-id', 'game-title']]\n",
    "\n",
    "print(\"Type: {}\".format(type(chosen_df)))\n",
    "display(chosen_df.head(10))"
   ]
  },
  {
   "cell_type": "markdown",
   "id": "interior-cleaner",
   "metadata": {
    "pycharm": {
     "name": "#%% md\n"
    }
   },
   "source": [
    "### Filtering rows"
   ]
  },
  {
   "cell_type": "code",
   "execution_count": 26,
   "id": "marine-growth",
   "metadata": {
    "pycharm": {
     "name": "#%%\n"
    }
   },
   "outputs": [
    {
     "name": "stdout",
     "output_type": "stream",
     "text": [
      "0    False\n",
      "1    False\n",
      "2     True\n",
      "3     True\n",
      "4    False\n",
      "5    False\n",
      "6    False\n",
      "7    False\n",
      "8    False\n",
      "9    False\n",
      "Name: game-title, dtype: bool\n"
     ]
    },
    {
     "data": {
      "text/html": [
       "<div>\n",
       "<style scoped>\n",
       "    .dataframe tbody tr th:only-of-type {\n",
       "        vertical-align: middle;\n",
       "    }\n",
       "\n",
       "    .dataframe tbody tr th {\n",
       "        vertical-align: top;\n",
       "    }\n",
       "\n",
       "    .dataframe thead th {\n",
       "        text-align: right;\n",
       "    }\n",
       "</style>\n",
       "<table border=\"1\" class=\"dataframe\">\n",
       "  <thead>\n",
       "    <tr style=\"text-align: right;\">\n",
       "      <th></th>\n",
       "      <th>user-id</th>\n",
       "      <th>game-title</th>\n",
       "      <th>behavior-name</th>\n",
       "      <th>value</th>\n",
       "      <th>zero</th>\n",
       "    </tr>\n",
       "  </thead>\n",
       "  <tbody>\n",
       "    <tr>\n",
       "      <th>2</th>\n",
       "      <td>151603712</td>\n",
       "      <td>Fallout 4</td>\n",
       "      <td>purchase</td>\n",
       "      <td>1.0</td>\n",
       "      <td>0</td>\n",
       "    </tr>\n",
       "    <tr>\n",
       "      <th>3</th>\n",
       "      <td>151603712</td>\n",
       "      <td>Fallout 4</td>\n",
       "      <td>play</td>\n",
       "      <td>87.0</td>\n",
       "      <td>0</td>\n",
       "    </tr>\n",
       "    <tr>\n",
       "      <th>3187</th>\n",
       "      <td>87445402</td>\n",
       "      <td>Fallout 4</td>\n",
       "      <td>purchase</td>\n",
       "      <td>1.0</td>\n",
       "      <td>0</td>\n",
       "    </tr>\n",
       "    <tr>\n",
       "      <th>3188</th>\n",
       "      <td>87445402</td>\n",
       "      <td>Fallout 4</td>\n",
       "      <td>play</td>\n",
       "      <td>83.0</td>\n",
       "      <td>0</td>\n",
       "    </tr>\n",
       "    <tr>\n",
       "      <th>5683</th>\n",
       "      <td>25096601</td>\n",
       "      <td>Fallout 4</td>\n",
       "      <td>purchase</td>\n",
       "      <td>1.0</td>\n",
       "      <td>0</td>\n",
       "    </tr>\n",
       "    <tr>\n",
       "      <th>5684</th>\n",
       "      <td>25096601</td>\n",
       "      <td>Fallout 4</td>\n",
       "      <td>play</td>\n",
       "      <td>1.6</td>\n",
       "      <td>0</td>\n",
       "    </tr>\n",
       "    <tr>\n",
       "      <th>6219</th>\n",
       "      <td>211925330</td>\n",
       "      <td>Fallout 4</td>\n",
       "      <td>purchase</td>\n",
       "      <td>1.0</td>\n",
       "      <td>0</td>\n",
       "    </tr>\n",
       "    <tr>\n",
       "      <th>6220</th>\n",
       "      <td>211925330</td>\n",
       "      <td>Fallout 4</td>\n",
       "      <td>play</td>\n",
       "      <td>133.0</td>\n",
       "      <td>0</td>\n",
       "    </tr>\n",
       "    <tr>\n",
       "      <th>7300</th>\n",
       "      <td>115396529</td>\n",
       "      <td>Fallout 4</td>\n",
       "      <td>purchase</td>\n",
       "      <td>1.0</td>\n",
       "      <td>0</td>\n",
       "    </tr>\n",
       "    <tr>\n",
       "      <th>7301</th>\n",
       "      <td>115396529</td>\n",
       "      <td>Fallout 4</td>\n",
       "      <td>play</td>\n",
       "      <td>17.9</td>\n",
       "      <td>0</td>\n",
       "    </tr>\n",
       "  </tbody>\n",
       "</table>\n",
       "</div>"
      ],
      "text/plain": [
       "        user-id game-title behavior-name  value  zero\n",
       "2     151603712  Fallout 4      purchase    1.0     0\n",
       "3     151603712  Fallout 4          play   87.0     0\n",
       "3187   87445402  Fallout 4      purchase    1.0     0\n",
       "3188   87445402  Fallout 4          play   83.0     0\n",
       "5683   25096601  Fallout 4      purchase    1.0     0\n",
       "5684   25096601  Fallout 4          play    1.6     0\n",
       "6219  211925330  Fallout 4      purchase    1.0     0\n",
       "6220  211925330  Fallout 4          play  133.0     0\n",
       "7300  115396529  Fallout 4      purchase    1.0     0\n",
       "7301  115396529  Fallout 4          play   17.9     0"
      ]
     },
     "metadata": {},
     "output_type": "display_data"
    }
   ],
   "source": [
    "condition = steam_df['game-title'] == 'Fallout 4'\n",
    "\n",
    "print(condition.head(10))\n",
    "\n",
    "chosen_df = steam_df.loc[condition]\n",
    "\n",
    "display(chosen_df.head(10))"
   ]
  },
  {
   "cell_type": "markdown",
   "id": "functioning-condition",
   "metadata": {
    "pycharm": {
     "name": "#%% md\n"
    }
   },
   "source": [
    "### Filtering rows and columns at once"
   ]
  },
  {
   "cell_type": "code",
   "execution_count": 27,
   "id": "advanced-religion",
   "metadata": {
    "pycharm": {
     "name": "#%%\n"
    }
   },
   "outputs": [
    {
     "data": {
      "text/html": [
       "<div>\n",
       "<style scoped>\n",
       "    .dataframe tbody tr th:only-of-type {\n",
       "        vertical-align: middle;\n",
       "    }\n",
       "\n",
       "    .dataframe tbody tr th {\n",
       "        vertical-align: top;\n",
       "    }\n",
       "\n",
       "    .dataframe thead th {\n",
       "        text-align: right;\n",
       "    }\n",
       "</style>\n",
       "<table border=\"1\" class=\"dataframe\">\n",
       "  <thead>\n",
       "    <tr style=\"text-align: right;\">\n",
       "      <th></th>\n",
       "      <th>user-id</th>\n",
       "      <th>game-title</th>\n",
       "      <th>value</th>\n",
       "    </tr>\n",
       "  </thead>\n",
       "  <tbody>\n",
       "    <tr>\n",
       "      <th>3</th>\n",
       "      <td>151603712</td>\n",
       "      <td>Fallout 4</td>\n",
       "      <td>87.0</td>\n",
       "    </tr>\n",
       "    <tr>\n",
       "      <th>3188</th>\n",
       "      <td>87445402</td>\n",
       "      <td>Fallout 4</td>\n",
       "      <td>83.0</td>\n",
       "    </tr>\n",
       "    <tr>\n",
       "      <th>5684</th>\n",
       "      <td>25096601</td>\n",
       "      <td>Fallout 4</td>\n",
       "      <td>1.6</td>\n",
       "    </tr>\n",
       "    <tr>\n",
       "      <th>6220</th>\n",
       "      <td>211925330</td>\n",
       "      <td>Fallout 4</td>\n",
       "      <td>133.0</td>\n",
       "    </tr>\n",
       "    <tr>\n",
       "      <th>7301</th>\n",
       "      <td>115396529</td>\n",
       "      <td>Fallout 4</td>\n",
       "      <td>17.9</td>\n",
       "    </tr>\n",
       "    <tr>\n",
       "      <th>7527</th>\n",
       "      <td>4834220</td>\n",
       "      <td>Fallout 4</td>\n",
       "      <td>19.8</td>\n",
       "    </tr>\n",
       "    <tr>\n",
       "      <th>7617</th>\n",
       "      <td>65229865</td>\n",
       "      <td>Fallout 4</td>\n",
       "      <td>0.5</td>\n",
       "    </tr>\n",
       "    <tr>\n",
       "      <th>7712</th>\n",
       "      <td>65958466</td>\n",
       "      <td>Fallout 4</td>\n",
       "      <td>123.0</td>\n",
       "    </tr>\n",
       "    <tr>\n",
       "      <th>9963</th>\n",
       "      <td>91800733</td>\n",
       "      <td>Fallout 4</td>\n",
       "      <td>63.0</td>\n",
       "    </tr>\n",
       "    <tr>\n",
       "      <th>10700</th>\n",
       "      <td>43913966</td>\n",
       "      <td>Fallout 4</td>\n",
       "      <td>65.0</td>\n",
       "    </tr>\n",
       "  </tbody>\n",
       "</table>\n",
       "</div>"
      ],
      "text/plain": [
       "         user-id game-title  value\n",
       "3      151603712  Fallout 4   87.0\n",
       "3188    87445402  Fallout 4   83.0\n",
       "5684    25096601  Fallout 4    1.6\n",
       "6220   211925330  Fallout 4  133.0\n",
       "7301   115396529  Fallout 4   17.9\n",
       "7527     4834220  Fallout 4   19.8\n",
       "7617    65229865  Fallout 4    0.5\n",
       "7712    65958466  Fallout 4  123.0\n",
       "9963    91800733  Fallout 4   63.0\n",
       "10700   43913966  Fallout 4   65.0"
      ]
     },
     "metadata": {},
     "output_type": "display_data"
    }
   ],
   "source": [
    "chosen_df = steam_df.loc[(steam_df['game-title'] == 'Fallout 4') & (steam_df['behavior-name'] == 'play'), \n",
    "                         ['user-id', 'game-title', 'value']]\n",
    "\n",
    "display(chosen_df.head(10))"
   ]
  },
  {
   "cell_type": "markdown",
   "id": "frequent-match",
   "metadata": {
    "pycharm": {
     "name": "#%% md\n"
    }
   },
   "source": [
    "## Simple operations on columns"
   ]
  },
  {
   "cell_type": "markdown",
   "id": "described-sister",
   "metadata": {
    "pycharm": {
     "name": "#%% md\n"
    }
   },
   "source": [
    "### Multiply a column by 2"
   ]
  },
  {
   "cell_type": "code",
   "execution_count": 28,
   "id": "injured-sweet",
   "metadata": {
    "pycharm": {
     "name": "#%%\n"
    }
   },
   "outputs": [
    {
     "data": {
      "text/html": [
       "<div>\n",
       "<style scoped>\n",
       "    .dataframe tbody tr th:only-of-type {\n",
       "        vertical-align: middle;\n",
       "    }\n",
       "\n",
       "    .dataframe tbody tr th {\n",
       "        vertical-align: top;\n",
       "    }\n",
       "\n",
       "    .dataframe thead th {\n",
       "        text-align: right;\n",
       "    }\n",
       "</style>\n",
       "<table border=\"1\" class=\"dataframe\">\n",
       "  <thead>\n",
       "    <tr style=\"text-align: right;\">\n",
       "      <th></th>\n",
       "      <th>user-id</th>\n",
       "      <th>game-title</th>\n",
       "      <th>behavior-name</th>\n",
       "      <th>value</th>\n",
       "      <th>zero</th>\n",
       "    </tr>\n",
       "  </thead>\n",
       "  <tbody>\n",
       "    <tr>\n",
       "      <th>0</th>\n",
       "      <td>151603712</td>\n",
       "      <td>The Elder Scrolls V Skyrim</td>\n",
       "      <td>purchase</td>\n",
       "      <td>1.0</td>\n",
       "      <td>0</td>\n",
       "    </tr>\n",
       "    <tr>\n",
       "      <th>1</th>\n",
       "      <td>151603712</td>\n",
       "      <td>The Elder Scrolls V Skyrim</td>\n",
       "      <td>play</td>\n",
       "      <td>273.0</td>\n",
       "      <td>0</td>\n",
       "    </tr>\n",
       "    <tr>\n",
       "      <th>2</th>\n",
       "      <td>151603712</td>\n",
       "      <td>Fallout 4</td>\n",
       "      <td>purchase</td>\n",
       "      <td>1.0</td>\n",
       "      <td>0</td>\n",
       "    </tr>\n",
       "    <tr>\n",
       "      <th>3</th>\n",
       "      <td>151603712</td>\n",
       "      <td>Fallout 4</td>\n",
       "      <td>play</td>\n",
       "      <td>87.0</td>\n",
       "      <td>0</td>\n",
       "    </tr>\n",
       "    <tr>\n",
       "      <th>4</th>\n",
       "      <td>151603712</td>\n",
       "      <td>Spore</td>\n",
       "      <td>purchase</td>\n",
       "      <td>1.0</td>\n",
       "      <td>0</td>\n",
       "    </tr>\n",
       "    <tr>\n",
       "      <th>5</th>\n",
       "      <td>151603712</td>\n",
       "      <td>Spore</td>\n",
       "      <td>play</td>\n",
       "      <td>14.9</td>\n",
       "      <td>0</td>\n",
       "    </tr>\n",
       "    <tr>\n",
       "      <th>6</th>\n",
       "      <td>151603712</td>\n",
       "      <td>Fallout New Vegas</td>\n",
       "      <td>purchase</td>\n",
       "      <td>1.0</td>\n",
       "      <td>0</td>\n",
       "    </tr>\n",
       "    <tr>\n",
       "      <th>7</th>\n",
       "      <td>151603712</td>\n",
       "      <td>Fallout New Vegas</td>\n",
       "      <td>play</td>\n",
       "      <td>12.1</td>\n",
       "      <td>0</td>\n",
       "    </tr>\n",
       "    <tr>\n",
       "      <th>8</th>\n",
       "      <td>151603712</td>\n",
       "      <td>Left 4 Dead 2</td>\n",
       "      <td>purchase</td>\n",
       "      <td>1.0</td>\n",
       "      <td>0</td>\n",
       "    </tr>\n",
       "    <tr>\n",
       "      <th>9</th>\n",
       "      <td>151603712</td>\n",
       "      <td>Left 4 Dead 2</td>\n",
       "      <td>play</td>\n",
       "      <td>8.9</td>\n",
       "      <td>0</td>\n",
       "    </tr>\n",
       "  </tbody>\n",
       "</table>\n",
       "</div>"
      ],
      "text/plain": [
       "     user-id                  game-title behavior-name  value  zero\n",
       "0  151603712  The Elder Scrolls V Skyrim      purchase    1.0     0\n",
       "1  151603712  The Elder Scrolls V Skyrim          play  273.0     0\n",
       "2  151603712                   Fallout 4      purchase    1.0     0\n",
       "3  151603712                   Fallout 4          play   87.0     0\n",
       "4  151603712                       Spore      purchase    1.0     0\n",
       "5  151603712                       Spore          play   14.9     0\n",
       "6  151603712           Fallout New Vegas      purchase    1.0     0\n",
       "7  151603712           Fallout New Vegas          play   12.1     0\n",
       "8  151603712               Left 4 Dead 2      purchase    1.0     0\n",
       "9  151603712               Left 4 Dead 2          play    8.9     0"
      ]
     },
     "metadata": {},
     "output_type": "display_data"
    },
    {
     "data": {
      "text/html": [
       "<div>\n",
       "<style scoped>\n",
       "    .dataframe tbody tr th:only-of-type {\n",
       "        vertical-align: middle;\n",
       "    }\n",
       "\n",
       "    .dataframe tbody tr th {\n",
       "        vertical-align: top;\n",
       "    }\n",
       "\n",
       "    .dataframe thead th {\n",
       "        text-align: right;\n",
       "    }\n",
       "</style>\n",
       "<table border=\"1\" class=\"dataframe\">\n",
       "  <thead>\n",
       "    <tr style=\"text-align: right;\">\n",
       "      <th></th>\n",
       "      <th>user-id</th>\n",
       "      <th>game-title</th>\n",
       "      <th>behavior-name</th>\n",
       "      <th>value</th>\n",
       "      <th>zero</th>\n",
       "    </tr>\n",
       "  </thead>\n",
       "  <tbody>\n",
       "    <tr>\n",
       "      <th>0</th>\n",
       "      <td>151603712</td>\n",
       "      <td>The Elder Scrolls V Skyrim</td>\n",
       "      <td>purchase</td>\n",
       "      <td>2.0</td>\n",
       "      <td>0</td>\n",
       "    </tr>\n",
       "    <tr>\n",
       "      <th>1</th>\n",
       "      <td>151603712</td>\n",
       "      <td>The Elder Scrolls V Skyrim</td>\n",
       "      <td>play</td>\n",
       "      <td>546.0</td>\n",
       "      <td>0</td>\n",
       "    </tr>\n",
       "    <tr>\n",
       "      <th>2</th>\n",
       "      <td>151603712</td>\n",
       "      <td>Fallout 4</td>\n",
       "      <td>purchase</td>\n",
       "      <td>2.0</td>\n",
       "      <td>0</td>\n",
       "    </tr>\n",
       "    <tr>\n",
       "      <th>3</th>\n",
       "      <td>151603712</td>\n",
       "      <td>Fallout 4</td>\n",
       "      <td>play</td>\n",
       "      <td>174.0</td>\n",
       "      <td>0</td>\n",
       "    </tr>\n",
       "    <tr>\n",
       "      <th>4</th>\n",
       "      <td>151603712</td>\n",
       "      <td>Spore</td>\n",
       "      <td>purchase</td>\n",
       "      <td>2.0</td>\n",
       "      <td>0</td>\n",
       "    </tr>\n",
       "    <tr>\n",
       "      <th>5</th>\n",
       "      <td>151603712</td>\n",
       "      <td>Spore</td>\n",
       "      <td>play</td>\n",
       "      <td>29.8</td>\n",
       "      <td>0</td>\n",
       "    </tr>\n",
       "    <tr>\n",
       "      <th>6</th>\n",
       "      <td>151603712</td>\n",
       "      <td>Fallout New Vegas</td>\n",
       "      <td>purchase</td>\n",
       "      <td>2.0</td>\n",
       "      <td>0</td>\n",
       "    </tr>\n",
       "    <tr>\n",
       "      <th>7</th>\n",
       "      <td>151603712</td>\n",
       "      <td>Fallout New Vegas</td>\n",
       "      <td>play</td>\n",
       "      <td>24.2</td>\n",
       "      <td>0</td>\n",
       "    </tr>\n",
       "    <tr>\n",
       "      <th>8</th>\n",
       "      <td>151603712</td>\n",
       "      <td>Left 4 Dead 2</td>\n",
       "      <td>purchase</td>\n",
       "      <td>2.0</td>\n",
       "      <td>0</td>\n",
       "    </tr>\n",
       "    <tr>\n",
       "      <th>9</th>\n",
       "      <td>151603712</td>\n",
       "      <td>Left 4 Dead 2</td>\n",
       "      <td>play</td>\n",
       "      <td>17.8</td>\n",
       "      <td>0</td>\n",
       "    </tr>\n",
       "  </tbody>\n",
       "</table>\n",
       "</div>"
      ],
      "text/plain": [
       "     user-id                  game-title behavior-name  value  zero\n",
       "0  151603712  The Elder Scrolls V Skyrim      purchase    2.0     0\n",
       "1  151603712  The Elder Scrolls V Skyrim          play  546.0     0\n",
       "2  151603712                   Fallout 4      purchase    2.0     0\n",
       "3  151603712                   Fallout 4          play  174.0     0\n",
       "4  151603712                       Spore      purchase    2.0     0\n",
       "5  151603712                       Spore          play   29.8     0\n",
       "6  151603712           Fallout New Vegas      purchase    2.0     0\n",
       "7  151603712           Fallout New Vegas          play   24.2     0\n",
       "8  151603712               Left 4 Dead 2      purchase    2.0     0\n",
       "9  151603712               Left 4 Dead 2          play   17.8     0"
      ]
     },
     "metadata": {},
     "output_type": "display_data"
    }
   ],
   "source": [
    "steam_df_copy = steam_df.copy()\n",
    "\n",
    "display(steam_df_copy.head(10))\n",
    "\n",
    "steam_df_copy['value'] = steam_df_copy['value'] * 2\n",
    "\n",
    "# Command equivalent in effect but not efficiency\n",
    "# steam_df_copy.loc[:, 'value'] = steam_df_copy['value'] * 2\n",
    "\n",
    "display(steam_df_copy.head(10))"
   ]
  },
  {
   "cell_type": "markdown",
   "id": "incomplete-orlando",
   "metadata": {
    "pycharm": {
     "name": "#%% md\n"
    }
   },
   "source": [
    "### Choose the first n letters of a string"
   ]
  },
  {
   "cell_type": "code",
   "execution_count": 2,
   "id": "above-iraqi",
   "metadata": {
    "pycharm": {
     "name": "#%%\n"
    }
   },
   "outputs": [
    {
     "ename": "NameError",
     "evalue": "name 'ml_movies_df' is not defined",
     "output_type": "error",
     "traceback": [
      "\u001B[1;31m---------------------------------------------------------------------------\u001B[0m",
      "\u001B[1;31mNameError\u001B[0m                                 Traceback (most recent call last)",
      "\u001B[1;32m~\\AppData\\Local\\Temp\\ipykernel_24720\\3892786689.py\u001B[0m in \u001B[0;36m<module>\u001B[1;34m\u001B[0m\n\u001B[1;32m----> 1\u001B[1;33m \u001B[0mml_movies_df_copy\u001B[0m \u001B[1;33m=\u001B[0m \u001B[0mml_movies_df\u001B[0m\u001B[1;33m.\u001B[0m\u001B[0mcopy\u001B[0m\u001B[1;33m(\u001B[0m\u001B[1;33m)\u001B[0m\u001B[1;33m\u001B[0m\u001B[1;33m\u001B[0m\u001B[0m\n\u001B[0m\u001B[0;32m      2\u001B[0m \u001B[1;33m\u001B[0m\u001B[0m\n\u001B[0;32m      3\u001B[0m \u001B[0mdisplay\u001B[0m\u001B[1;33m(\u001B[0m\u001B[0mml_movies_df_copy\u001B[0m\u001B[1;33m.\u001B[0m\u001B[0mhead\u001B[0m\u001B[1;33m(\u001B[0m\u001B[1;36m10\u001B[0m\u001B[1;33m)\u001B[0m\u001B[1;33m)\u001B[0m\u001B[1;33m\u001B[0m\u001B[1;33m\u001B[0m\u001B[0m\n\u001B[0;32m      4\u001B[0m \u001B[1;33m\u001B[0m\u001B[0m\n\u001B[0;32m      5\u001B[0m \u001B[0mml_movies_df_copy\u001B[0m\u001B[1;33m[\u001B[0m\u001B[1;34m'title'\u001B[0m\u001B[1;33m]\u001B[0m \u001B[1;33m=\u001B[0m \u001B[0mml_movies_df_copy\u001B[0m\u001B[1;33m[\u001B[0m\u001B[1;34m'title'\u001B[0m\u001B[1;33m]\u001B[0m\u001B[1;33m.\u001B[0m\u001B[0mstr\u001B[0m\u001B[1;33m[\u001B[0m\u001B[1;33m:\u001B[0m\u001B[1;36m6\u001B[0m\u001B[1;33m]\u001B[0m\u001B[1;33m\u001B[0m\u001B[1;33m\u001B[0m\u001B[0m\n",
      "\u001B[1;31mNameError\u001B[0m: name 'ml_movies_df' is not defined"
     ]
    }
   ],
   "source": [
    "ml_movies_df_copy = ml_movies_df.copy()\n",
    "\n",
    "display(ml_movies_df_copy.head(10))\n",
    "\n",
    "ml_movies_df_copy['title'] = ml_movies_df_copy['title'].str[:6]\n",
    "\n",
    "display(ml_movies_df_copy.head(10))"
   ]
  },
  {
   "cell_type": "markdown",
   "id": "incorporated-entrance",
   "metadata": {
    "pycharm": {
     "name": "#%% md\n"
    }
   },
   "source": [
    "### Take the mean of a column"
   ]
  },
  {
   "cell_type": "code",
   "execution_count": 30,
   "id": "selected-trial",
   "metadata": {
    "pycharm": {
     "name": "#%%\n"
    }
   },
   "outputs": [
    {
     "name": "stdout",
     "output_type": "stream",
     "text": [
      "17.874384000000003\n",
      "17.874384000000003\n"
     ]
    }
   ],
   "source": [
    "# Option 1\n",
    "print(steam_df['value'].mean())\n",
    "\n",
    "# Option 2\n",
    "print(np.mean(steam_df['value']))"
   ]
  },
  {
   "cell_type": "markdown",
   "id": "discrete-cheese",
   "metadata": {
    "pycharm": {
     "name": "#%% md\n"
    }
   },
   "source": [
    "### Simple operation on filtered data"
   ]
  },
  {
   "cell_type": "code",
   "execution_count": 31,
   "id": "bridal-greenhouse",
   "metadata": {
    "pycharm": {
     "name": "#%%\n"
    }
   },
   "outputs": [
    {
     "data": {
      "text/html": [
       "<div>\n",
       "<style scoped>\n",
       "    .dataframe tbody tr th:only-of-type {\n",
       "        vertical-align: middle;\n",
       "    }\n",
       "\n",
       "    .dataframe tbody tr th {\n",
       "        vertical-align: top;\n",
       "    }\n",
       "\n",
       "    .dataframe thead th {\n",
       "        text-align: right;\n",
       "    }\n",
       "</style>\n",
       "<table border=\"1\" class=\"dataframe\">\n",
       "  <thead>\n",
       "    <tr style=\"text-align: right;\">\n",
       "      <th></th>\n",
       "      <th>user-id</th>\n",
       "      <th>game-title</th>\n",
       "      <th>behavior-name</th>\n",
       "      <th>value</th>\n",
       "      <th>zero</th>\n",
       "    </tr>\n",
       "  </thead>\n",
       "  <tbody>\n",
       "    <tr>\n",
       "      <th>1</th>\n",
       "      <td>151603712</td>\n",
       "      <td>The Elder Scrolls V Skyrim</td>\n",
       "      <td>play</td>\n",
       "      <td>273.0</td>\n",
       "      <td>0</td>\n",
       "    </tr>\n",
       "    <tr>\n",
       "      <th>3</th>\n",
       "      <td>151603712</td>\n",
       "      <td>Fallout 4</td>\n",
       "      <td>play</td>\n",
       "      <td>87.0</td>\n",
       "      <td>0</td>\n",
       "    </tr>\n",
       "    <tr>\n",
       "      <th>73</th>\n",
       "      <td>59945701</td>\n",
       "      <td>The Elder Scrolls V Skyrim</td>\n",
       "      <td>play</td>\n",
       "      <td>58.0</td>\n",
       "      <td>0</td>\n",
       "    </tr>\n",
       "    <tr>\n",
       "      <th>1066</th>\n",
       "      <td>92107940</td>\n",
       "      <td>The Elder Scrolls V Skyrim</td>\n",
       "      <td>play</td>\n",
       "      <td>110.0</td>\n",
       "      <td>0</td>\n",
       "    </tr>\n",
       "    <tr>\n",
       "      <th>1168</th>\n",
       "      <td>250006052</td>\n",
       "      <td>The Elder Scrolls V Skyrim</td>\n",
       "      <td>play</td>\n",
       "      <td>465.0</td>\n",
       "      <td>0</td>\n",
       "    </tr>\n",
       "    <tr>\n",
       "      <th>1388</th>\n",
       "      <td>11373749</td>\n",
       "      <td>The Elder Scrolls V Skyrim</td>\n",
       "      <td>play</td>\n",
       "      <td>220.0</td>\n",
       "      <td>0</td>\n",
       "    </tr>\n",
       "    <tr>\n",
       "      <th>2065</th>\n",
       "      <td>54103616</td>\n",
       "      <td>The Elder Scrolls V Skyrim</td>\n",
       "      <td>play</td>\n",
       "      <td>35.0</td>\n",
       "      <td>0</td>\n",
       "    </tr>\n",
       "    <tr>\n",
       "      <th>2569</th>\n",
       "      <td>56038151</td>\n",
       "      <td>The Elder Scrolls V Skyrim</td>\n",
       "      <td>play</td>\n",
       "      <td>14.6</td>\n",
       "      <td>0</td>\n",
       "    </tr>\n",
       "    <tr>\n",
       "      <th>3188</th>\n",
       "      <td>87445402</td>\n",
       "      <td>Fallout 4</td>\n",
       "      <td>play</td>\n",
       "      <td>83.0</td>\n",
       "      <td>0</td>\n",
       "    </tr>\n",
       "    <tr>\n",
       "      <th>3233</th>\n",
       "      <td>94088853</td>\n",
       "      <td>The Elder Scrolls V Skyrim</td>\n",
       "      <td>play</td>\n",
       "      <td>320.0</td>\n",
       "      <td>0</td>\n",
       "    </tr>\n",
       "  </tbody>\n",
       "</table>\n",
       "</div>"
      ],
      "text/plain": [
       "        user-id                  game-title behavior-name  value  zero\n",
       "1     151603712  The Elder Scrolls V Skyrim          play  273.0     0\n",
       "3     151603712                   Fallout 4          play   87.0     0\n",
       "73     59945701  The Elder Scrolls V Skyrim          play   58.0     0\n",
       "1066   92107940  The Elder Scrolls V Skyrim          play  110.0     0\n",
       "1168  250006052  The Elder Scrolls V Skyrim          play  465.0     0\n",
       "1388   11373749  The Elder Scrolls V Skyrim          play  220.0     0\n",
       "2065   54103616  The Elder Scrolls V Skyrim          play   35.0     0\n",
       "2569   56038151  The Elder Scrolls V Skyrim          play   14.6     0\n",
       "3188   87445402                   Fallout 4          play   83.0     0\n",
       "3233   94088853  The Elder Scrolls V Skyrim          play  320.0     0"
      ]
     },
     "metadata": {},
     "output_type": "display_data"
    },
    {
     "data": {
      "text/html": [
       "<div>\n",
       "<style scoped>\n",
       "    .dataframe tbody tr th:only-of-type {\n",
       "        vertical-align: middle;\n",
       "    }\n",
       "\n",
       "    .dataframe tbody tr th {\n",
       "        vertical-align: top;\n",
       "    }\n",
       "\n",
       "    .dataframe thead th {\n",
       "        text-align: right;\n",
       "    }\n",
       "</style>\n",
       "<table border=\"1\" class=\"dataframe\">\n",
       "  <thead>\n",
       "    <tr style=\"text-align: right;\">\n",
       "      <th></th>\n",
       "      <th>user-id</th>\n",
       "      <th>game-title</th>\n",
       "      <th>behavior-name</th>\n",
       "      <th>value</th>\n",
       "      <th>zero</th>\n",
       "    </tr>\n",
       "  </thead>\n",
       "  <tbody>\n",
       "    <tr>\n",
       "      <th>1</th>\n",
       "      <td>151603712</td>\n",
       "      <td>The Elder Scrolls V Skyrim</td>\n",
       "      <td>play</td>\n",
       "      <td>273.0</td>\n",
       "      <td>0</td>\n",
       "    </tr>\n",
       "    <tr>\n",
       "      <th>3</th>\n",
       "      <td>151603712</td>\n",
       "      <td>Fallout 4</td>\n",
       "      <td>play</td>\n",
       "      <td>174.0</td>\n",
       "      <td>0</td>\n",
       "    </tr>\n",
       "    <tr>\n",
       "      <th>73</th>\n",
       "      <td>59945701</td>\n",
       "      <td>The Elder Scrolls V Skyrim</td>\n",
       "      <td>play</td>\n",
       "      <td>58.0</td>\n",
       "      <td>0</td>\n",
       "    </tr>\n",
       "    <tr>\n",
       "      <th>1066</th>\n",
       "      <td>92107940</td>\n",
       "      <td>The Elder Scrolls V Skyrim</td>\n",
       "      <td>play</td>\n",
       "      <td>110.0</td>\n",
       "      <td>0</td>\n",
       "    </tr>\n",
       "    <tr>\n",
       "      <th>1168</th>\n",
       "      <td>250006052</td>\n",
       "      <td>The Elder Scrolls V Skyrim</td>\n",
       "      <td>play</td>\n",
       "      <td>465.0</td>\n",
       "      <td>0</td>\n",
       "    </tr>\n",
       "    <tr>\n",
       "      <th>1388</th>\n",
       "      <td>11373749</td>\n",
       "      <td>The Elder Scrolls V Skyrim</td>\n",
       "      <td>play</td>\n",
       "      <td>220.0</td>\n",
       "      <td>0</td>\n",
       "    </tr>\n",
       "    <tr>\n",
       "      <th>2065</th>\n",
       "      <td>54103616</td>\n",
       "      <td>The Elder Scrolls V Skyrim</td>\n",
       "      <td>play</td>\n",
       "      <td>35.0</td>\n",
       "      <td>0</td>\n",
       "    </tr>\n",
       "    <tr>\n",
       "      <th>2569</th>\n",
       "      <td>56038151</td>\n",
       "      <td>The Elder Scrolls V Skyrim</td>\n",
       "      <td>play</td>\n",
       "      <td>14.6</td>\n",
       "      <td>0</td>\n",
       "    </tr>\n",
       "    <tr>\n",
       "      <th>3188</th>\n",
       "      <td>87445402</td>\n",
       "      <td>Fallout 4</td>\n",
       "      <td>play</td>\n",
       "      <td>166.0</td>\n",
       "      <td>0</td>\n",
       "    </tr>\n",
       "    <tr>\n",
       "      <th>3233</th>\n",
       "      <td>94088853</td>\n",
       "      <td>The Elder Scrolls V Skyrim</td>\n",
       "      <td>play</td>\n",
       "      <td>320.0</td>\n",
       "      <td>0</td>\n",
       "    </tr>\n",
       "  </tbody>\n",
       "</table>\n",
       "</div>"
      ],
      "text/plain": [
       "        user-id                  game-title behavior-name  value  zero\n",
       "1     151603712  The Elder Scrolls V Skyrim          play  273.0     0\n",
       "3     151603712                   Fallout 4          play  174.0     0\n",
       "73     59945701  The Elder Scrolls V Skyrim          play   58.0     0\n",
       "1066   92107940  The Elder Scrolls V Skyrim          play  110.0     0\n",
       "1168  250006052  The Elder Scrolls V Skyrim          play  465.0     0\n",
       "1388   11373749  The Elder Scrolls V Skyrim          play  220.0     0\n",
       "2065   54103616  The Elder Scrolls V Skyrim          play   35.0     0\n",
       "2569   56038151  The Elder Scrolls V Skyrim          play   14.6     0\n",
       "3188   87445402                   Fallout 4          play  166.0     0\n",
       "3233   94088853  The Elder Scrolls V Skyrim          play  320.0     0"
      ]
     },
     "metadata": {},
     "output_type": "display_data"
    }
   ],
   "source": [
    "steam_df_copy = steam_df.loc[((steam_df['game-title'] == 'Fallout 4') \n",
    "                              | (steam_df['game-title'] == 'The Elder Scrolls V Skyrim')) \n",
    "                             & (steam_df['behavior-name'] == 'play')].copy()\n",
    "\n",
    "display(steam_df_copy.head(10))\n",
    "\n",
    "condition = (steam_df_copy['game-title'] == 'Fallout 4') & (steam_df_copy['behavior-name'] == 'play')\n",
    "\n",
    "steam_df_copy.loc[condition, 'value'] = steam_df_copy.loc[condition, 'value'] * 2\n",
    "\n",
    "display(steam_df_copy.head(10))"
   ]
  },
  {
   "cell_type": "markdown",
   "id": "relevant-strap",
   "metadata": {
    "pycharm": {
     "name": "#%% md\n"
    }
   },
   "source": [
    "## Advanced operations on columns"
   ]
  },
  {
   "cell_type": "code",
   "execution_count": 32,
   "id": "female-french",
   "metadata": {
    "pycharm": {
     "name": "#%%\n"
    }
   },
   "outputs": [
    {
     "data": {
      "text/html": [
       "<div>\n",
       "<style scoped>\n",
       "    .dataframe tbody tr th:only-of-type {\n",
       "        vertical-align: middle;\n",
       "    }\n",
       "\n",
       "    .dataframe tbody tr th {\n",
       "        vertical-align: top;\n",
       "    }\n",
       "\n",
       "    .dataframe thead th {\n",
       "        text-align: right;\n",
       "    }\n",
       "</style>\n",
       "<table border=\"1\" class=\"dataframe\">\n",
       "  <thead>\n",
       "    <tr style=\"text-align: right;\">\n",
       "      <th></th>\n",
       "      <th>user-id</th>\n",
       "      <th>game-title</th>\n",
       "      <th>behavior-name</th>\n",
       "      <th>value</th>\n",
       "      <th>zero</th>\n",
       "    </tr>\n",
       "  </thead>\n",
       "  <tbody>\n",
       "    <tr>\n",
       "      <th>1</th>\n",
       "      <td>151603712</td>\n",
       "      <td>The Elder Scrolls V Skyrim</td>\n",
       "      <td>play</td>\n",
       "      <td>273.0</td>\n",
       "      <td>0</td>\n",
       "    </tr>\n",
       "    <tr>\n",
       "      <th>3</th>\n",
       "      <td>151603712</td>\n",
       "      <td>Fallout 4</td>\n",
       "      <td>play</td>\n",
       "      <td>87.0</td>\n",
       "      <td>0</td>\n",
       "    </tr>\n",
       "    <tr>\n",
       "      <th>5</th>\n",
       "      <td>151603712</td>\n",
       "      <td>Spore</td>\n",
       "      <td>play</td>\n",
       "      <td>14.9</td>\n",
       "      <td>0</td>\n",
       "    </tr>\n",
       "    <tr>\n",
       "      <th>7</th>\n",
       "      <td>151603712</td>\n",
       "      <td>Fallout New Vegas</td>\n",
       "      <td>play</td>\n",
       "      <td>12.1</td>\n",
       "      <td>0</td>\n",
       "    </tr>\n",
       "    <tr>\n",
       "      <th>9</th>\n",
       "      <td>151603712</td>\n",
       "      <td>Left 4 Dead 2</td>\n",
       "      <td>play</td>\n",
       "      <td>8.9</td>\n",
       "      <td>0</td>\n",
       "    </tr>\n",
       "    <tr>\n",
       "      <th>11</th>\n",
       "      <td>151603712</td>\n",
       "      <td>HuniePop</td>\n",
       "      <td>play</td>\n",
       "      <td>8.5</td>\n",
       "      <td>0</td>\n",
       "    </tr>\n",
       "    <tr>\n",
       "      <th>13</th>\n",
       "      <td>151603712</td>\n",
       "      <td>Path of Exile</td>\n",
       "      <td>play</td>\n",
       "      <td>8.1</td>\n",
       "      <td>0</td>\n",
       "    </tr>\n",
       "    <tr>\n",
       "      <th>15</th>\n",
       "      <td>151603712</td>\n",
       "      <td>Poly Bridge</td>\n",
       "      <td>play</td>\n",
       "      <td>7.5</td>\n",
       "      <td>0</td>\n",
       "    </tr>\n",
       "    <tr>\n",
       "      <th>17</th>\n",
       "      <td>151603712</td>\n",
       "      <td>Left 4 Dead</td>\n",
       "      <td>play</td>\n",
       "      <td>3.3</td>\n",
       "      <td>0</td>\n",
       "    </tr>\n",
       "    <tr>\n",
       "      <th>19</th>\n",
       "      <td>151603712</td>\n",
       "      <td>Team Fortress 2</td>\n",
       "      <td>play</td>\n",
       "      <td>2.8</td>\n",
       "      <td>0</td>\n",
       "    </tr>\n",
       "  </tbody>\n",
       "</table>\n",
       "</div>"
      ],
      "text/plain": [
       "      user-id                  game-title behavior-name  value  zero\n",
       "1   151603712  The Elder Scrolls V Skyrim          play  273.0     0\n",
       "3   151603712                   Fallout 4          play   87.0     0\n",
       "5   151603712                       Spore          play   14.9     0\n",
       "7   151603712           Fallout New Vegas          play   12.1     0\n",
       "9   151603712               Left 4 Dead 2          play    8.9     0\n",
       "11  151603712                    HuniePop          play    8.5     0\n",
       "13  151603712               Path of Exile          play    8.1     0\n",
       "15  151603712                 Poly Bridge          play    7.5     0\n",
       "17  151603712                 Left 4 Dead          play    3.3     0\n",
       "19  151603712             Team Fortress 2          play    2.8     0"
      ]
     },
     "metadata": {},
     "output_type": "display_data"
    },
    {
     "data": {
      "text/html": [
       "<div>\n",
       "<style scoped>\n",
       "    .dataframe tbody tr th:only-of-type {\n",
       "        vertical-align: middle;\n",
       "    }\n",
       "\n",
       "    .dataframe tbody tr th {\n",
       "        vertical-align: top;\n",
       "    }\n",
       "\n",
       "    .dataframe thead th {\n",
       "        text-align: right;\n",
       "    }\n",
       "</style>\n",
       "<table border=\"1\" class=\"dataframe\">\n",
       "  <thead>\n",
       "    <tr style=\"text-align: right;\">\n",
       "      <th></th>\n",
       "      <th>user-id</th>\n",
       "      <th>game-title</th>\n",
       "      <th>behavior-name</th>\n",
       "      <th>value</th>\n",
       "      <th>zero</th>\n",
       "    </tr>\n",
       "  </thead>\n",
       "  <tbody>\n",
       "    <tr>\n",
       "      <th>1</th>\n",
       "      <td>151603712</td>\n",
       "      <td>The Elder Scrolls V Skyrim</td>\n",
       "      <td>play</td>\n",
       "      <td>4.000000</td>\n",
       "      <td>0</td>\n",
       "    </tr>\n",
       "    <tr>\n",
       "      <th>3</th>\n",
       "      <td>151603712</td>\n",
       "      <td>Fallout 4</td>\n",
       "      <td>play</td>\n",
       "      <td>4.000000</td>\n",
       "      <td>0</td>\n",
       "    </tr>\n",
       "    <tr>\n",
       "      <th>5</th>\n",
       "      <td>151603712</td>\n",
       "      <td>Spore</td>\n",
       "      <td>play</td>\n",
       "      <td>2.766319</td>\n",
       "      <td>0</td>\n",
       "    </tr>\n",
       "    <tr>\n",
       "      <th>7</th>\n",
       "      <td>151603712</td>\n",
       "      <td>Fallout New Vegas</td>\n",
       "      <td>play</td>\n",
       "      <td>2.572612</td>\n",
       "      <td>0</td>\n",
       "    </tr>\n",
       "    <tr>\n",
       "      <th>9</th>\n",
       "      <td>151603712</td>\n",
       "      <td>Left 4 Dead 2</td>\n",
       "      <td>play</td>\n",
       "      <td>2.292535</td>\n",
       "      <td>0</td>\n",
       "    </tr>\n",
       "    <tr>\n",
       "      <th>11</th>\n",
       "      <td>151603712</td>\n",
       "      <td>HuniePop</td>\n",
       "      <td>play</td>\n",
       "      <td>2.251292</td>\n",
       "      <td>0</td>\n",
       "    </tr>\n",
       "    <tr>\n",
       "      <th>13</th>\n",
       "      <td>151603712</td>\n",
       "      <td>Path of Exile</td>\n",
       "      <td>play</td>\n",
       "      <td>2.208274</td>\n",
       "      <td>0</td>\n",
       "    </tr>\n",
       "    <tr>\n",
       "      <th>15</th>\n",
       "      <td>151603712</td>\n",
       "      <td>Poly Bridge</td>\n",
       "      <td>play</td>\n",
       "      <td>2.140066</td>\n",
       "      <td>0</td>\n",
       "    </tr>\n",
       "    <tr>\n",
       "      <th>17</th>\n",
       "      <td>151603712</td>\n",
       "      <td>Left 4 Dead</td>\n",
       "      <td>play</td>\n",
       "      <td>1.458615</td>\n",
       "      <td>0</td>\n",
       "    </tr>\n",
       "    <tr>\n",
       "      <th>19</th>\n",
       "      <td>151603712</td>\n",
       "      <td>Team Fortress 2</td>\n",
       "      <td>play</td>\n",
       "      <td>1.335001</td>\n",
       "      <td>0</td>\n",
       "    </tr>\n",
       "  </tbody>\n",
       "</table>\n",
       "</div>"
      ],
      "text/plain": [
       "      user-id                  game-title behavior-name     value  zero\n",
       "1   151603712  The Elder Scrolls V Skyrim          play  4.000000     0\n",
       "3   151603712                   Fallout 4          play  4.000000     0\n",
       "5   151603712                       Spore          play  2.766319     0\n",
       "7   151603712           Fallout New Vegas          play  2.572612     0\n",
       "9   151603712               Left 4 Dead 2          play  2.292535     0\n",
       "11  151603712                    HuniePop          play  2.251292     0\n",
       "13  151603712               Path of Exile          play  2.208274     0\n",
       "15  151603712                 Poly Bridge          play  2.140066     0\n",
       "17  151603712                 Left 4 Dead          play  1.458615     0\n",
       "19  151603712             Team Fortress 2          play  1.335001     0"
      ]
     },
     "metadata": {},
     "output_type": "display_data"
    }
   ],
   "source": [
    "def scale_data(x):\n",
    "    return np.log(1 + x)\n",
    "\n",
    "def reduce_outliers(x):\n",
    "    return min(x, 4)\n",
    "\n",
    "steam_df_copy = steam_df.loc[steam_df['behavior-name'] == 'play'].copy()\n",
    "\n",
    "display(steam_df_copy.head(10))\n",
    "\n",
    "steam_df_copy['value'] = steam_df_copy['value'].apply(scale_data)\n",
    "steam_df_copy['value'] = steam_df_copy['value'].apply(reduce_outliers)\n",
    "\n",
    "display(steam_df_copy.head(10))"
   ]
  },
  {
   "cell_type": "markdown",
   "id": "supported-graphic",
   "metadata": {
    "pycharm": {
     "name": "#%% md\n"
    }
   },
   "source": [
    "### The same apply operation can be achieved with the use of a lambda function"
   ]
  },
  {
   "cell_type": "code",
   "execution_count": 33,
   "id": "objective-survey",
   "metadata": {
    "pycharm": {
     "name": "#%%\n"
    }
   },
   "outputs": [
    {
     "data": {
      "text/html": [
       "<div>\n",
       "<style scoped>\n",
       "    .dataframe tbody tr th:only-of-type {\n",
       "        vertical-align: middle;\n",
       "    }\n",
       "\n",
       "    .dataframe tbody tr th {\n",
       "        vertical-align: top;\n",
       "    }\n",
       "\n",
       "    .dataframe thead th {\n",
       "        text-align: right;\n",
       "    }\n",
       "</style>\n",
       "<table border=\"1\" class=\"dataframe\">\n",
       "  <thead>\n",
       "    <tr style=\"text-align: right;\">\n",
       "      <th></th>\n",
       "      <th>user-id</th>\n",
       "      <th>game-title</th>\n",
       "      <th>behavior-name</th>\n",
       "      <th>value</th>\n",
       "      <th>zero</th>\n",
       "    </tr>\n",
       "  </thead>\n",
       "  <tbody>\n",
       "    <tr>\n",
       "      <th>1</th>\n",
       "      <td>151603712</td>\n",
       "      <td>The Elder Scrolls V Skyrim</td>\n",
       "      <td>play</td>\n",
       "      <td>273.0</td>\n",
       "      <td>0</td>\n",
       "    </tr>\n",
       "    <tr>\n",
       "      <th>3</th>\n",
       "      <td>151603712</td>\n",
       "      <td>Fallout 4</td>\n",
       "      <td>play</td>\n",
       "      <td>87.0</td>\n",
       "      <td>0</td>\n",
       "    </tr>\n",
       "    <tr>\n",
       "      <th>5</th>\n",
       "      <td>151603712</td>\n",
       "      <td>Spore</td>\n",
       "      <td>play</td>\n",
       "      <td>14.9</td>\n",
       "      <td>0</td>\n",
       "    </tr>\n",
       "    <tr>\n",
       "      <th>7</th>\n",
       "      <td>151603712</td>\n",
       "      <td>Fallout New Vegas</td>\n",
       "      <td>play</td>\n",
       "      <td>12.1</td>\n",
       "      <td>0</td>\n",
       "    </tr>\n",
       "    <tr>\n",
       "      <th>9</th>\n",
       "      <td>151603712</td>\n",
       "      <td>Left 4 Dead 2</td>\n",
       "      <td>play</td>\n",
       "      <td>8.9</td>\n",
       "      <td>0</td>\n",
       "    </tr>\n",
       "    <tr>\n",
       "      <th>11</th>\n",
       "      <td>151603712</td>\n",
       "      <td>HuniePop</td>\n",
       "      <td>play</td>\n",
       "      <td>8.5</td>\n",
       "      <td>0</td>\n",
       "    </tr>\n",
       "    <tr>\n",
       "      <th>13</th>\n",
       "      <td>151603712</td>\n",
       "      <td>Path of Exile</td>\n",
       "      <td>play</td>\n",
       "      <td>8.1</td>\n",
       "      <td>0</td>\n",
       "    </tr>\n",
       "    <tr>\n",
       "      <th>15</th>\n",
       "      <td>151603712</td>\n",
       "      <td>Poly Bridge</td>\n",
       "      <td>play</td>\n",
       "      <td>7.5</td>\n",
       "      <td>0</td>\n",
       "    </tr>\n",
       "    <tr>\n",
       "      <th>17</th>\n",
       "      <td>151603712</td>\n",
       "      <td>Left 4 Dead</td>\n",
       "      <td>play</td>\n",
       "      <td>3.3</td>\n",
       "      <td>0</td>\n",
       "    </tr>\n",
       "    <tr>\n",
       "      <th>19</th>\n",
       "      <td>151603712</td>\n",
       "      <td>Team Fortress 2</td>\n",
       "      <td>play</td>\n",
       "      <td>2.8</td>\n",
       "      <td>0</td>\n",
       "    </tr>\n",
       "  </tbody>\n",
       "</table>\n",
       "</div>"
      ],
      "text/plain": [
       "      user-id                  game-title behavior-name  value  zero\n",
       "1   151603712  The Elder Scrolls V Skyrim          play  273.0     0\n",
       "3   151603712                   Fallout 4          play   87.0     0\n",
       "5   151603712                       Spore          play   14.9     0\n",
       "7   151603712           Fallout New Vegas          play   12.1     0\n",
       "9   151603712               Left 4 Dead 2          play    8.9     0\n",
       "11  151603712                    HuniePop          play    8.5     0\n",
       "13  151603712               Path of Exile          play    8.1     0\n",
       "15  151603712                 Poly Bridge          play    7.5     0\n",
       "17  151603712                 Left 4 Dead          play    3.3     0\n",
       "19  151603712             Team Fortress 2          play    2.8     0"
      ]
     },
     "metadata": {},
     "output_type": "display_data"
    },
    {
     "data": {
      "text/html": [
       "<div>\n",
       "<style scoped>\n",
       "    .dataframe tbody tr th:only-of-type {\n",
       "        vertical-align: middle;\n",
       "    }\n",
       "\n",
       "    .dataframe tbody tr th {\n",
       "        vertical-align: top;\n",
       "    }\n",
       "\n",
       "    .dataframe thead th {\n",
       "        text-align: right;\n",
       "    }\n",
       "</style>\n",
       "<table border=\"1\" class=\"dataframe\">\n",
       "  <thead>\n",
       "    <tr style=\"text-align: right;\">\n",
       "      <th></th>\n",
       "      <th>user-id</th>\n",
       "      <th>game-title</th>\n",
       "      <th>behavior-name</th>\n",
       "      <th>value</th>\n",
       "      <th>zero</th>\n",
       "    </tr>\n",
       "  </thead>\n",
       "  <tbody>\n",
       "    <tr>\n",
       "      <th>1</th>\n",
       "      <td>151603712</td>\n",
       "      <td>The Elder Scrolls V Skyrim</td>\n",
       "      <td>play</td>\n",
       "      <td>4.000000</td>\n",
       "      <td>0</td>\n",
       "    </tr>\n",
       "    <tr>\n",
       "      <th>3</th>\n",
       "      <td>151603712</td>\n",
       "      <td>Fallout 4</td>\n",
       "      <td>play</td>\n",
       "      <td>4.000000</td>\n",
       "      <td>0</td>\n",
       "    </tr>\n",
       "    <tr>\n",
       "      <th>5</th>\n",
       "      <td>151603712</td>\n",
       "      <td>Spore</td>\n",
       "      <td>play</td>\n",
       "      <td>2.766319</td>\n",
       "      <td>0</td>\n",
       "    </tr>\n",
       "    <tr>\n",
       "      <th>7</th>\n",
       "      <td>151603712</td>\n",
       "      <td>Fallout New Vegas</td>\n",
       "      <td>play</td>\n",
       "      <td>2.572612</td>\n",
       "      <td>0</td>\n",
       "    </tr>\n",
       "    <tr>\n",
       "      <th>9</th>\n",
       "      <td>151603712</td>\n",
       "      <td>Left 4 Dead 2</td>\n",
       "      <td>play</td>\n",
       "      <td>2.292535</td>\n",
       "      <td>0</td>\n",
       "    </tr>\n",
       "    <tr>\n",
       "      <th>11</th>\n",
       "      <td>151603712</td>\n",
       "      <td>HuniePop</td>\n",
       "      <td>play</td>\n",
       "      <td>2.251292</td>\n",
       "      <td>0</td>\n",
       "    </tr>\n",
       "    <tr>\n",
       "      <th>13</th>\n",
       "      <td>151603712</td>\n",
       "      <td>Path of Exile</td>\n",
       "      <td>play</td>\n",
       "      <td>2.208274</td>\n",
       "      <td>0</td>\n",
       "    </tr>\n",
       "    <tr>\n",
       "      <th>15</th>\n",
       "      <td>151603712</td>\n",
       "      <td>Poly Bridge</td>\n",
       "      <td>play</td>\n",
       "      <td>2.140066</td>\n",
       "      <td>0</td>\n",
       "    </tr>\n",
       "    <tr>\n",
       "      <th>17</th>\n",
       "      <td>151603712</td>\n",
       "      <td>Left 4 Dead</td>\n",
       "      <td>play</td>\n",
       "      <td>1.458615</td>\n",
       "      <td>0</td>\n",
       "    </tr>\n",
       "    <tr>\n",
       "      <th>19</th>\n",
       "      <td>151603712</td>\n",
       "      <td>Team Fortress 2</td>\n",
       "      <td>play</td>\n",
       "      <td>1.335001</td>\n",
       "      <td>0</td>\n",
       "    </tr>\n",
       "  </tbody>\n",
       "</table>\n",
       "</div>"
      ],
      "text/plain": [
       "      user-id                  game-title behavior-name     value  zero\n",
       "1   151603712  The Elder Scrolls V Skyrim          play  4.000000     0\n",
       "3   151603712                   Fallout 4          play  4.000000     0\n",
       "5   151603712                       Spore          play  2.766319     0\n",
       "7   151603712           Fallout New Vegas          play  2.572612     0\n",
       "9   151603712               Left 4 Dead 2          play  2.292535     0\n",
       "11  151603712                    HuniePop          play  2.251292     0\n",
       "13  151603712               Path of Exile          play  2.208274     0\n",
       "15  151603712                 Poly Bridge          play  2.140066     0\n",
       "17  151603712                 Left 4 Dead          play  1.458615     0\n",
       "19  151603712             Team Fortress 2          play  1.335001     0"
      ]
     },
     "metadata": {},
     "output_type": "display_data"
    }
   ],
   "source": [
    "steam_df_copy = steam_df.loc[steam_df['behavior-name'] == 'play'].copy()\n",
    "\n",
    "display(steam_df_copy.head(10))\n",
    "\n",
    "steam_df_copy['value'] = steam_df_copy['value'].apply(lambda x: min(np.log(1 + x), 4))\n",
    "\n",
    "display(steam_df_copy.head(10))"
   ]
  },
  {
   "cell_type": "markdown",
   "id": "improved-architect",
   "metadata": {
    "pycharm": {
     "name": "#%% md\n"
    }
   },
   "source": [
    "### Apply on two columns at once"
   ]
  },
  {
   "cell_type": "code",
   "execution_count": 34,
   "id": "stuffed-shopping",
   "metadata": {
    "pycharm": {
     "name": "#%%\n"
    }
   },
   "outputs": [
    {
     "data": {
      "text/html": [
       "<div>\n",
       "<style scoped>\n",
       "    .dataframe tbody tr th:only-of-type {\n",
       "        vertical-align: middle;\n",
       "    }\n",
       "\n",
       "    .dataframe tbody tr th {\n",
       "        vertical-align: top;\n",
       "    }\n",
       "\n",
       "    .dataframe thead th {\n",
       "        text-align: right;\n",
       "    }\n",
       "</style>\n",
       "<table border=\"1\" class=\"dataframe\">\n",
       "  <thead>\n",
       "    <tr style=\"text-align: right;\">\n",
       "      <th></th>\n",
       "      <th>user-id</th>\n",
       "      <th>game-title</th>\n",
       "      <th>behavior-name</th>\n",
       "      <th>value</th>\n",
       "      <th>zero</th>\n",
       "    </tr>\n",
       "  </thead>\n",
       "  <tbody>\n",
       "    <tr>\n",
       "      <th>1</th>\n",
       "      <td>151603712</td>\n",
       "      <td>The Elder Scrolls V Skyrim</td>\n",
       "      <td>play</td>\n",
       "      <td>273.0</td>\n",
       "      <td>0</td>\n",
       "    </tr>\n",
       "    <tr>\n",
       "      <th>3</th>\n",
       "      <td>151603712</td>\n",
       "      <td>Fallout 4</td>\n",
       "      <td>play</td>\n",
       "      <td>87.0</td>\n",
       "      <td>0</td>\n",
       "    </tr>\n",
       "    <tr>\n",
       "      <th>5</th>\n",
       "      <td>151603712</td>\n",
       "      <td>Spore</td>\n",
       "      <td>play</td>\n",
       "      <td>14.9</td>\n",
       "      <td>0</td>\n",
       "    </tr>\n",
       "    <tr>\n",
       "      <th>7</th>\n",
       "      <td>151603712</td>\n",
       "      <td>Fallout New Vegas</td>\n",
       "      <td>play</td>\n",
       "      <td>12.1</td>\n",
       "      <td>0</td>\n",
       "    </tr>\n",
       "    <tr>\n",
       "      <th>9</th>\n",
       "      <td>151603712</td>\n",
       "      <td>Left 4 Dead 2</td>\n",
       "      <td>play</td>\n",
       "      <td>8.9</td>\n",
       "      <td>0</td>\n",
       "    </tr>\n",
       "    <tr>\n",
       "      <th>11</th>\n",
       "      <td>151603712</td>\n",
       "      <td>HuniePop</td>\n",
       "      <td>play</td>\n",
       "      <td>8.5</td>\n",
       "      <td>0</td>\n",
       "    </tr>\n",
       "    <tr>\n",
       "      <th>13</th>\n",
       "      <td>151603712</td>\n",
       "      <td>Path of Exile</td>\n",
       "      <td>play</td>\n",
       "      <td>8.1</td>\n",
       "      <td>0</td>\n",
       "    </tr>\n",
       "    <tr>\n",
       "      <th>15</th>\n",
       "      <td>151603712</td>\n",
       "      <td>Poly Bridge</td>\n",
       "      <td>play</td>\n",
       "      <td>7.5</td>\n",
       "      <td>0</td>\n",
       "    </tr>\n",
       "    <tr>\n",
       "      <th>17</th>\n",
       "      <td>151603712</td>\n",
       "      <td>Left 4 Dead</td>\n",
       "      <td>play</td>\n",
       "      <td>3.3</td>\n",
       "      <td>0</td>\n",
       "    </tr>\n",
       "    <tr>\n",
       "      <th>19</th>\n",
       "      <td>151603712</td>\n",
       "      <td>Team Fortress 2</td>\n",
       "      <td>play</td>\n",
       "      <td>2.8</td>\n",
       "      <td>0</td>\n",
       "    </tr>\n",
       "  </tbody>\n",
       "</table>\n",
       "</div>"
      ],
      "text/plain": [
       "      user-id                  game-title behavior-name  value  zero\n",
       "1   151603712  The Elder Scrolls V Skyrim          play  273.0     0\n",
       "3   151603712                   Fallout 4          play   87.0     0\n",
       "5   151603712                       Spore          play   14.9     0\n",
       "7   151603712           Fallout New Vegas          play   12.1     0\n",
       "9   151603712               Left 4 Dead 2          play    8.9     0\n",
       "11  151603712                    HuniePop          play    8.5     0\n",
       "13  151603712               Path of Exile          play    8.1     0\n",
       "15  151603712                 Poly Bridge          play    7.5     0\n",
       "17  151603712                 Left 4 Dead          play    3.3     0\n",
       "19  151603712             Team Fortress 2          play    2.8     0"
      ]
     },
     "metadata": {},
     "output_type": "display_data"
    },
    {
     "data": {
      "text/html": [
       "<div>\n",
       "<style scoped>\n",
       "    .dataframe tbody tr th:only-of-type {\n",
       "        vertical-align: middle;\n",
       "    }\n",
       "\n",
       "    .dataframe tbody tr th {\n",
       "        vertical-align: top;\n",
       "    }\n",
       "\n",
       "    .dataframe thead th {\n",
       "        text-align: right;\n",
       "    }\n",
       "</style>\n",
       "<table border=\"1\" class=\"dataframe\">\n",
       "  <thead>\n",
       "    <tr style=\"text-align: right;\">\n",
       "      <th></th>\n",
       "      <th>user-id</th>\n",
       "      <th>game-title</th>\n",
       "      <th>behavior-name</th>\n",
       "      <th>value</th>\n",
       "      <th>zero</th>\n",
       "      <th>value_2</th>\n",
       "    </tr>\n",
       "  </thead>\n",
       "  <tbody>\n",
       "    <tr>\n",
       "      <th>1</th>\n",
       "      <td>151603712</td>\n",
       "      <td>The Elder Scrolls V Skyrim</td>\n",
       "      <td>play</td>\n",
       "      <td>273.0</td>\n",
       "      <td>0</td>\n",
       "      <td>4.000000</td>\n",
       "    </tr>\n",
       "    <tr>\n",
       "      <th>3</th>\n",
       "      <td>151603712</td>\n",
       "      <td>Fallout 4</td>\n",
       "      <td>play</td>\n",
       "      <td>87.0</td>\n",
       "      <td>0</td>\n",
       "      <td>4.000000</td>\n",
       "    </tr>\n",
       "    <tr>\n",
       "      <th>5</th>\n",
       "      <td>151603712</td>\n",
       "      <td>Spore</td>\n",
       "      <td>play</td>\n",
       "      <td>14.9</td>\n",
       "      <td>0</td>\n",
       "      <td>2.766319</td>\n",
       "    </tr>\n",
       "    <tr>\n",
       "      <th>7</th>\n",
       "      <td>151603712</td>\n",
       "      <td>Fallout New Vegas</td>\n",
       "      <td>play</td>\n",
       "      <td>12.1</td>\n",
       "      <td>0</td>\n",
       "      <td>2.572612</td>\n",
       "    </tr>\n",
       "    <tr>\n",
       "      <th>9</th>\n",
       "      <td>151603712</td>\n",
       "      <td>Left 4 Dead 2</td>\n",
       "      <td>play</td>\n",
       "      <td>8.9</td>\n",
       "      <td>0</td>\n",
       "      <td>2.292535</td>\n",
       "    </tr>\n",
       "    <tr>\n",
       "      <th>11</th>\n",
       "      <td>151603712</td>\n",
       "      <td>HuniePop</td>\n",
       "      <td>play</td>\n",
       "      <td>8.5</td>\n",
       "      <td>0</td>\n",
       "      <td>2.251292</td>\n",
       "    </tr>\n",
       "    <tr>\n",
       "      <th>13</th>\n",
       "      <td>151603712</td>\n",
       "      <td>Path of Exile</td>\n",
       "      <td>play</td>\n",
       "      <td>8.1</td>\n",
       "      <td>0</td>\n",
       "      <td>2.208274</td>\n",
       "    </tr>\n",
       "    <tr>\n",
       "      <th>15</th>\n",
       "      <td>151603712</td>\n",
       "      <td>Poly Bridge</td>\n",
       "      <td>play</td>\n",
       "      <td>7.5</td>\n",
       "      <td>0</td>\n",
       "      <td>2.140066</td>\n",
       "    </tr>\n",
       "    <tr>\n",
       "      <th>17</th>\n",
       "      <td>151603712</td>\n",
       "      <td>Left 4 Dead</td>\n",
       "      <td>play</td>\n",
       "      <td>3.3</td>\n",
       "      <td>0</td>\n",
       "      <td>1.458615</td>\n",
       "    </tr>\n",
       "    <tr>\n",
       "      <th>19</th>\n",
       "      <td>151603712</td>\n",
       "      <td>Team Fortress 2</td>\n",
       "      <td>play</td>\n",
       "      <td>2.8</td>\n",
       "      <td>0</td>\n",
       "      <td>1.335001</td>\n",
       "    </tr>\n",
       "  </tbody>\n",
       "</table>\n",
       "</div>"
      ],
      "text/plain": [
       "      user-id                  game-title behavior-name  value  zero   value_2\n",
       "1   151603712  The Elder Scrolls V Skyrim          play  273.0     0  4.000000\n",
       "3   151603712                   Fallout 4          play   87.0     0  4.000000\n",
       "5   151603712                       Spore          play   14.9     0  2.766319\n",
       "7   151603712           Fallout New Vegas          play   12.1     0  2.572612\n",
       "9   151603712               Left 4 Dead 2          play    8.9     0  2.292535\n",
       "11  151603712                    HuniePop          play    8.5     0  2.251292\n",
       "13  151603712               Path of Exile          play    8.1     0  2.208274\n",
       "15  151603712                 Poly Bridge          play    7.5     0  2.140066\n",
       "17  151603712                 Left 4 Dead          play    3.3     0  1.458615\n",
       "19  151603712             Team Fortress 2          play    2.8     0  1.335001"
      ]
     },
     "metadata": {},
     "output_type": "display_data"
    },
    {
     "data": {
      "text/html": [
       "<div>\n",
       "<style scoped>\n",
       "    .dataframe tbody tr th:only-of-type {\n",
       "        vertical-align: middle;\n",
       "    }\n",
       "\n",
       "    .dataframe tbody tr th {\n",
       "        vertical-align: top;\n",
       "    }\n",
       "\n",
       "    .dataframe thead th {\n",
       "        text-align: right;\n",
       "    }\n",
       "</style>\n",
       "<table border=\"1\" class=\"dataframe\">\n",
       "  <thead>\n",
       "    <tr style=\"text-align: right;\">\n",
       "      <th></th>\n",
       "      <th>user-id</th>\n",
       "      <th>game-title</th>\n",
       "      <th>behavior-name</th>\n",
       "      <th>value</th>\n",
       "      <th>zero</th>\n",
       "      <th>value_2</th>\n",
       "      <th>value_3</th>\n",
       "    </tr>\n",
       "  </thead>\n",
       "  <tbody>\n",
       "    <tr>\n",
       "      <th>1</th>\n",
       "      <td>151603712</td>\n",
       "      <td>The Elder Scrolls V Skyrim</td>\n",
       "      <td>play</td>\n",
       "      <td>273.0</td>\n",
       "      <td>0</td>\n",
       "      <td>4.000000</td>\n",
       "      <td>1092.000000</td>\n",
       "    </tr>\n",
       "    <tr>\n",
       "      <th>3</th>\n",
       "      <td>151603712</td>\n",
       "      <td>Fallout 4</td>\n",
       "      <td>play</td>\n",
       "      <td>87.0</td>\n",
       "      <td>0</td>\n",
       "      <td>4.000000</td>\n",
       "      <td>348.000000</td>\n",
       "    </tr>\n",
       "    <tr>\n",
       "      <th>5</th>\n",
       "      <td>151603712</td>\n",
       "      <td>Spore</td>\n",
       "      <td>play</td>\n",
       "      <td>14.9</td>\n",
       "      <td>0</td>\n",
       "      <td>2.766319</td>\n",
       "      <td>41.218155</td>\n",
       "    </tr>\n",
       "    <tr>\n",
       "      <th>7</th>\n",
       "      <td>151603712</td>\n",
       "      <td>Fallout New Vegas</td>\n",
       "      <td>play</td>\n",
       "      <td>12.1</td>\n",
       "      <td>0</td>\n",
       "      <td>2.572612</td>\n",
       "      <td>31.128608</td>\n",
       "    </tr>\n",
       "    <tr>\n",
       "      <th>9</th>\n",
       "      <td>151603712</td>\n",
       "      <td>Left 4 Dead 2</td>\n",
       "      <td>play</td>\n",
       "      <td>8.9</td>\n",
       "      <td>0</td>\n",
       "      <td>2.292535</td>\n",
       "      <td>20.403559</td>\n",
       "    </tr>\n",
       "    <tr>\n",
       "      <th>11</th>\n",
       "      <td>151603712</td>\n",
       "      <td>HuniePop</td>\n",
       "      <td>play</td>\n",
       "      <td>8.5</td>\n",
       "      <td>0</td>\n",
       "      <td>2.251292</td>\n",
       "      <td>19.135980</td>\n",
       "    </tr>\n",
       "    <tr>\n",
       "      <th>13</th>\n",
       "      <td>151603712</td>\n",
       "      <td>Path of Exile</td>\n",
       "      <td>play</td>\n",
       "      <td>8.1</td>\n",
       "      <td>0</td>\n",
       "      <td>2.208274</td>\n",
       "      <td>17.887023</td>\n",
       "    </tr>\n",
       "    <tr>\n",
       "      <th>15</th>\n",
       "      <td>151603712</td>\n",
       "      <td>Poly Bridge</td>\n",
       "      <td>play</td>\n",
       "      <td>7.5</td>\n",
       "      <td>0</td>\n",
       "      <td>2.140066</td>\n",
       "      <td>16.050496</td>\n",
       "    </tr>\n",
       "    <tr>\n",
       "      <th>17</th>\n",
       "      <td>151603712</td>\n",
       "      <td>Left 4 Dead</td>\n",
       "      <td>play</td>\n",
       "      <td>3.3</td>\n",
       "      <td>0</td>\n",
       "      <td>1.458615</td>\n",
       "      <td>4.813430</td>\n",
       "    </tr>\n",
       "    <tr>\n",
       "      <th>19</th>\n",
       "      <td>151603712</td>\n",
       "      <td>Team Fortress 2</td>\n",
       "      <td>play</td>\n",
       "      <td>2.8</td>\n",
       "      <td>0</td>\n",
       "      <td>1.335001</td>\n",
       "      <td>3.738003</td>\n",
       "    </tr>\n",
       "  </tbody>\n",
       "</table>\n",
       "</div>"
      ],
      "text/plain": [
       "      user-id                  game-title behavior-name  value  zero  \\\n",
       "1   151603712  The Elder Scrolls V Skyrim          play  273.0     0   \n",
       "3   151603712                   Fallout 4          play   87.0     0   \n",
       "5   151603712                       Spore          play   14.9     0   \n",
       "7   151603712           Fallout New Vegas          play   12.1     0   \n",
       "9   151603712               Left 4 Dead 2          play    8.9     0   \n",
       "11  151603712                    HuniePop          play    8.5     0   \n",
       "13  151603712               Path of Exile          play    8.1     0   \n",
       "15  151603712                 Poly Bridge          play    7.5     0   \n",
       "17  151603712                 Left 4 Dead          play    3.3     0   \n",
       "19  151603712             Team Fortress 2          play    2.8     0   \n",
       "\n",
       "     value_2      value_3  \n",
       "1   4.000000  1092.000000  \n",
       "3   4.000000   348.000000  \n",
       "5   2.766319    41.218155  \n",
       "7   2.572612    31.128608  \n",
       "9   2.292535    20.403559  \n",
       "11  2.251292    19.135980  \n",
       "13  2.208274    17.887023  \n",
       "15  2.140066    16.050496  \n",
       "17  1.458615     4.813430  \n",
       "19  1.335001     3.738003  "
      ]
     },
     "metadata": {},
     "output_type": "display_data"
    }
   ],
   "source": [
    "steam_df_copy = steam_df.loc[steam_df['behavior-name'] == 'play'].copy()\n",
    "\n",
    "display(steam_df_copy.head(10))\n",
    "\n",
    "steam_df_copy['value_2'] = steam_df_copy['value'].apply(lambda x: min(np.log(1 + x), 4))\n",
    "\n",
    "display(steam_df_copy.head(10))\n",
    "\n",
    "steam_df_copy['value_3'] = steam_df_copy[['value', 'value_2']].apply(lambda x: x[0] * x[1], axis=1)\n",
    "\n",
    "display(steam_df_copy.head(10))"
   ]
  },
  {
   "cell_type": "code",
   "execution_count": 35,
   "id": "thirty-bundle",
   "metadata": {
    "pycharm": {
     "name": "#%%\n"
    }
   },
   "outputs": [
    {
     "data": {
      "text/html": [
       "<div>\n",
       "<style scoped>\n",
       "    .dataframe tbody tr th:only-of-type {\n",
       "        vertical-align: middle;\n",
       "    }\n",
       "\n",
       "    .dataframe tbody tr th {\n",
       "        vertical-align: top;\n",
       "    }\n",
       "\n",
       "    .dataframe thead th {\n",
       "        text-align: right;\n",
       "    }\n",
       "</style>\n",
       "<table border=\"1\" class=\"dataframe\">\n",
       "  <thead>\n",
       "    <tr style=\"text-align: right;\">\n",
       "      <th></th>\n",
       "      <th>movieId</th>\n",
       "      <th>title</th>\n",
       "      <th>genres</th>\n",
       "    </tr>\n",
       "  </thead>\n",
       "  <tbody>\n",
       "    <tr>\n",
       "      <th>0</th>\n",
       "      <td>1</td>\n",
       "      <td>Toy Story (1995)</td>\n",
       "      <td>Adventure|Animation|Children|Comedy|Fantasy</td>\n",
       "    </tr>\n",
       "    <tr>\n",
       "      <th>1</th>\n",
       "      <td>2</td>\n",
       "      <td>Jumanji (1995)</td>\n",
       "      <td>Adventure|Children|Fantasy</td>\n",
       "    </tr>\n",
       "    <tr>\n",
       "      <th>2</th>\n",
       "      <td>3</td>\n",
       "      <td>Grumpier Old Men (1995)</td>\n",
       "      <td>Comedy|Romance</td>\n",
       "    </tr>\n",
       "    <tr>\n",
       "      <th>3</th>\n",
       "      <td>4</td>\n",
       "      <td>Waiting to Exhale (1995)</td>\n",
       "      <td>Comedy|Drama|Romance</td>\n",
       "    </tr>\n",
       "    <tr>\n",
       "      <th>4</th>\n",
       "      <td>5</td>\n",
       "      <td>Father of the Bride Part II (1995)</td>\n",
       "      <td>Comedy</td>\n",
       "    </tr>\n",
       "    <tr>\n",
       "      <th>5</th>\n",
       "      <td>6</td>\n",
       "      <td>Heat (1995)</td>\n",
       "      <td>Action|Crime|Thriller</td>\n",
       "    </tr>\n",
       "    <tr>\n",
       "      <th>6</th>\n",
       "      <td>7</td>\n",
       "      <td>Sabrina (1995)</td>\n",
       "      <td>Comedy|Romance</td>\n",
       "    </tr>\n",
       "    <tr>\n",
       "      <th>7</th>\n",
       "      <td>8</td>\n",
       "      <td>Tom and Huck (1995)</td>\n",
       "      <td>Adventure|Children</td>\n",
       "    </tr>\n",
       "    <tr>\n",
       "      <th>8</th>\n",
       "      <td>9</td>\n",
       "      <td>Sudden Death (1995)</td>\n",
       "      <td>Action</td>\n",
       "    </tr>\n",
       "    <tr>\n",
       "      <th>9</th>\n",
       "      <td>10</td>\n",
       "      <td>GoldenEye (1995)</td>\n",
       "      <td>Action|Adventure|Thriller</td>\n",
       "    </tr>\n",
       "  </tbody>\n",
       "</table>\n",
       "</div>"
      ],
      "text/plain": [
       "   movieId                               title  \\\n",
       "0        1                    Toy Story (1995)   \n",
       "1        2                      Jumanji (1995)   \n",
       "2        3             Grumpier Old Men (1995)   \n",
       "3        4            Waiting to Exhale (1995)   \n",
       "4        5  Father of the Bride Part II (1995)   \n",
       "5        6                         Heat (1995)   \n",
       "6        7                      Sabrina (1995)   \n",
       "7        8                 Tom and Huck (1995)   \n",
       "8        9                 Sudden Death (1995)   \n",
       "9       10                    GoldenEye (1995)   \n",
       "\n",
       "                                        genres  \n",
       "0  Adventure|Animation|Children|Comedy|Fantasy  \n",
       "1                   Adventure|Children|Fantasy  \n",
       "2                               Comedy|Romance  \n",
       "3                         Comedy|Drama|Romance  \n",
       "4                                       Comedy  \n",
       "5                        Action|Crime|Thriller  \n",
       "6                               Comedy|Romance  \n",
       "7                           Adventure|Children  \n",
       "8                                       Action  \n",
       "9                    Action|Adventure|Thriller  "
      ]
     },
     "metadata": {},
     "output_type": "display_data"
    },
    {
     "data": {
      "text/html": [
       "<div>\n",
       "<style scoped>\n",
       "    .dataframe tbody tr th:only-of-type {\n",
       "        vertical-align: middle;\n",
       "    }\n",
       "\n",
       "    .dataframe tbody tr th {\n",
       "        vertical-align: top;\n",
       "    }\n",
       "\n",
       "    .dataframe thead th {\n",
       "        text-align: right;\n",
       "    }\n",
       "</style>\n",
       "<table border=\"1\" class=\"dataframe\">\n",
       "  <thead>\n",
       "    <tr style=\"text-align: right;\">\n",
       "      <th></th>\n",
       "      <th>movieId</th>\n",
       "      <th>title</th>\n",
       "      <th>genres</th>\n",
       "      <th>title|genres</th>\n",
       "    </tr>\n",
       "  </thead>\n",
       "  <tbody>\n",
       "    <tr>\n",
       "      <th>0</th>\n",
       "      <td>1</td>\n",
       "      <td>Toy Story (1995)</td>\n",
       "      <td>Adventure|Animation|Children|Comedy|Fantasy</td>\n",
       "      <td>Toy Story (1995)|Adventure|Animation|Children|...</td>\n",
       "    </tr>\n",
       "    <tr>\n",
       "      <th>1</th>\n",
       "      <td>2</td>\n",
       "      <td>Jumanji (1995)</td>\n",
       "      <td>Adventure|Children|Fantasy</td>\n",
       "      <td>Jumanji (1995)|Adventure|Children|Fantasy</td>\n",
       "    </tr>\n",
       "    <tr>\n",
       "      <th>2</th>\n",
       "      <td>3</td>\n",
       "      <td>Grumpier Old Men (1995)</td>\n",
       "      <td>Comedy|Romance</td>\n",
       "      <td>Grumpier Old Men (1995)|Comedy|Romance</td>\n",
       "    </tr>\n",
       "    <tr>\n",
       "      <th>3</th>\n",
       "      <td>4</td>\n",
       "      <td>Waiting to Exhale (1995)</td>\n",
       "      <td>Comedy|Drama|Romance</td>\n",
       "      <td>Waiting to Exhale (1995)|Comedy|Drama|Romance</td>\n",
       "    </tr>\n",
       "    <tr>\n",
       "      <th>4</th>\n",
       "      <td>5</td>\n",
       "      <td>Father of the Bride Part II (1995)</td>\n",
       "      <td>Comedy</td>\n",
       "      <td>Father of the Bride Part II (1995)|Comedy</td>\n",
       "    </tr>\n",
       "    <tr>\n",
       "      <th>5</th>\n",
       "      <td>6</td>\n",
       "      <td>Heat (1995)</td>\n",
       "      <td>Action|Crime|Thriller</td>\n",
       "      <td>Heat (1995)|Action|Crime|Thriller</td>\n",
       "    </tr>\n",
       "    <tr>\n",
       "      <th>6</th>\n",
       "      <td>7</td>\n",
       "      <td>Sabrina (1995)</td>\n",
       "      <td>Comedy|Romance</td>\n",
       "      <td>Sabrina (1995)|Comedy|Romance</td>\n",
       "    </tr>\n",
       "    <tr>\n",
       "      <th>7</th>\n",
       "      <td>8</td>\n",
       "      <td>Tom and Huck (1995)</td>\n",
       "      <td>Adventure|Children</td>\n",
       "      <td>Tom and Huck (1995)|Adventure|Children</td>\n",
       "    </tr>\n",
       "    <tr>\n",
       "      <th>8</th>\n",
       "      <td>9</td>\n",
       "      <td>Sudden Death (1995)</td>\n",
       "      <td>Action</td>\n",
       "      <td>Sudden Death (1995)|Action</td>\n",
       "    </tr>\n",
       "    <tr>\n",
       "      <th>9</th>\n",
       "      <td>10</td>\n",
       "      <td>GoldenEye (1995)</td>\n",
       "      <td>Action|Adventure|Thriller</td>\n",
       "      <td>GoldenEye (1995)|Action|Adventure|Thriller</td>\n",
       "    </tr>\n",
       "  </tbody>\n",
       "</table>\n",
       "</div>"
      ],
      "text/plain": [
       "   movieId                               title  \\\n",
       "0        1                    Toy Story (1995)   \n",
       "1        2                      Jumanji (1995)   \n",
       "2        3             Grumpier Old Men (1995)   \n",
       "3        4            Waiting to Exhale (1995)   \n",
       "4        5  Father of the Bride Part II (1995)   \n",
       "5        6                         Heat (1995)   \n",
       "6        7                      Sabrina (1995)   \n",
       "7        8                 Tom and Huck (1995)   \n",
       "8        9                 Sudden Death (1995)   \n",
       "9       10                    GoldenEye (1995)   \n",
       "\n",
       "                                        genres  \\\n",
       "0  Adventure|Animation|Children|Comedy|Fantasy   \n",
       "1                   Adventure|Children|Fantasy   \n",
       "2                               Comedy|Romance   \n",
       "3                         Comedy|Drama|Romance   \n",
       "4                                       Comedy   \n",
       "5                        Action|Crime|Thriller   \n",
       "6                               Comedy|Romance   \n",
       "7                           Adventure|Children   \n",
       "8                                       Action   \n",
       "9                    Action|Adventure|Thriller   \n",
       "\n",
       "                                        title|genres  \n",
       "0  Toy Story (1995)|Adventure|Animation|Children|...  \n",
       "1          Jumanji (1995)|Adventure|Children|Fantasy  \n",
       "2             Grumpier Old Men (1995)|Comedy|Romance  \n",
       "3      Waiting to Exhale (1995)|Comedy|Drama|Romance  \n",
       "4          Father of the Bride Part II (1995)|Comedy  \n",
       "5                  Heat (1995)|Action|Crime|Thriller  \n",
       "6                      Sabrina (1995)|Comedy|Romance  \n",
       "7             Tom and Huck (1995)|Adventure|Children  \n",
       "8                         Sudden Death (1995)|Action  \n",
       "9         GoldenEye (1995)|Action|Adventure|Thriller  "
      ]
     },
     "metadata": {},
     "output_type": "display_data"
    }
   ],
   "source": [
    "ml_movies_df_copy = ml_movies_df.copy()\n",
    "\n",
    "display(ml_movies_df_copy.head(10))\n",
    "\n",
    "ml_movies_df_copy['title|genres'] = ml_movies_df_copy[['title', 'genres']].apply(lambda x: x[0] + \"|\" + x[1], axis=1)\n",
    "\n",
    "display(ml_movies_df_copy.head(10))"
   ]
  },
  {
   "cell_type": "markdown",
   "id": "critical-fields",
   "metadata": {
    "pycharm": {
     "name": "#%% md\n"
    }
   },
   "source": [
    "## Grouping and aggregating"
   ]
  },
  {
   "cell_type": "markdown",
   "id": "biological-light",
   "metadata": {
    "pycharm": {
     "name": "#%% md\n"
    }
   },
   "source": [
    "### Find the most popular games (in terms of purchases)"
   ]
  },
  {
   "cell_type": "code",
   "execution_count": 36,
   "id": "greenhouse-scout",
   "metadata": {
    "pycharm": {
     "name": "#%%\n"
    }
   },
   "outputs": [
    {
     "data": {
      "text/html": [
       "<div>\n",
       "<style scoped>\n",
       "    .dataframe tbody tr th:only-of-type {\n",
       "        vertical-align: middle;\n",
       "    }\n",
       "\n",
       "    .dataframe tbody tr th {\n",
       "        vertical-align: top;\n",
       "    }\n",
       "\n",
       "    .dataframe thead th {\n",
       "        text-align: right;\n",
       "    }\n",
       "</style>\n",
       "<table border=\"1\" class=\"dataframe\">\n",
       "  <thead>\n",
       "    <tr style=\"text-align: right;\">\n",
       "      <th></th>\n",
       "      <th>game-title</th>\n",
       "      <th>value</th>\n",
       "    </tr>\n",
       "  </thead>\n",
       "  <tbody>\n",
       "    <tr>\n",
       "      <th>0</th>\n",
       "      <td>Dota 2</td>\n",
       "      <td>4841.0</td>\n",
       "    </tr>\n",
       "    <tr>\n",
       "      <th>1</th>\n",
       "      <td>Team Fortress 2</td>\n",
       "      <td>2323.0</td>\n",
       "    </tr>\n",
       "    <tr>\n",
       "      <th>2</th>\n",
       "      <td>Unturned</td>\n",
       "      <td>1563.0</td>\n",
       "    </tr>\n",
       "    <tr>\n",
       "      <th>3</th>\n",
       "      <td>Counter-Strike Global Offensive</td>\n",
       "      <td>1412.0</td>\n",
       "    </tr>\n",
       "    <tr>\n",
       "      <th>4</th>\n",
       "      <td>Half-Life 2 Lost Coast</td>\n",
       "      <td>981.0</td>\n",
       "    </tr>\n",
       "    <tr>\n",
       "      <th>5</th>\n",
       "      <td>Counter-Strike Source</td>\n",
       "      <td>978.0</td>\n",
       "    </tr>\n",
       "    <tr>\n",
       "      <th>6</th>\n",
       "      <td>Left 4 Dead 2</td>\n",
       "      <td>951.0</td>\n",
       "    </tr>\n",
       "    <tr>\n",
       "      <th>7</th>\n",
       "      <td>Counter-Strike</td>\n",
       "      <td>856.0</td>\n",
       "    </tr>\n",
       "    <tr>\n",
       "      <th>8</th>\n",
       "      <td>Warframe</td>\n",
       "      <td>847.0</td>\n",
       "    </tr>\n",
       "    <tr>\n",
       "      <th>9</th>\n",
       "      <td>Half-Life 2 Deathmatch</td>\n",
       "      <td>823.0</td>\n",
       "    </tr>\n",
       "  </tbody>\n",
       "</table>\n",
       "</div>"
      ],
      "text/plain": [
       "                        game-title   value\n",
       "0                           Dota 2  4841.0\n",
       "1                  Team Fortress 2  2323.0\n",
       "2                         Unturned  1563.0\n",
       "3  Counter-Strike Global Offensive  1412.0\n",
       "4           Half-Life 2 Lost Coast   981.0\n",
       "5            Counter-Strike Source   978.0\n",
       "6                    Left 4 Dead 2   951.0\n",
       "7                   Counter-Strike   856.0\n",
       "8                         Warframe   847.0\n",
       "9           Half-Life 2 Deathmatch   823.0"
      ]
     },
     "metadata": {},
     "output_type": "display_data"
    }
   ],
   "source": [
    "steam_grouped = steam_df.loc[steam_df['behavior-name'] == 'purchase', ['game-title', 'value']]\n",
    "steam_grouped = steam_grouped.groupby('game-title').sum()\n",
    "steam_grouped = steam_grouped.sort_values(by='value', ascending=False).reset_index()\n",
    "\n",
    "display(steam_grouped.head(10))"
   ]
  },
  {
   "cell_type": "markdown",
   "id": "different-arrival",
   "metadata": {
    "pycharm": {
     "name": "#%% md\n"
    }
   },
   "source": [
    "### Alternative way of aggregating"
   ]
  },
  {
   "cell_type": "code",
   "execution_count": 37,
   "id": "helpful-character",
   "metadata": {
    "pycharm": {
     "name": "#%%\n"
    }
   },
   "outputs": [
    {
     "data": {
      "text/html": [
       "<div>\n",
       "<style scoped>\n",
       "    .dataframe tbody tr th:only-of-type {\n",
       "        vertical-align: middle;\n",
       "    }\n",
       "\n",
       "    .dataframe tbody tr th {\n",
       "        vertical-align: top;\n",
       "    }\n",
       "\n",
       "    .dataframe thead th {\n",
       "        text-align: right;\n",
       "    }\n",
       "</style>\n",
       "<table border=\"1\" class=\"dataframe\">\n",
       "  <thead>\n",
       "    <tr style=\"text-align: right;\">\n",
       "      <th></th>\n",
       "      <th>game-title</th>\n",
       "      <th>value</th>\n",
       "    </tr>\n",
       "  </thead>\n",
       "  <tbody>\n",
       "    <tr>\n",
       "      <th>0</th>\n",
       "      <td>Dota 2</td>\n",
       "      <td>4841.0</td>\n",
       "    </tr>\n",
       "    <tr>\n",
       "      <th>1</th>\n",
       "      <td>Team Fortress 2</td>\n",
       "      <td>2323.0</td>\n",
       "    </tr>\n",
       "    <tr>\n",
       "      <th>2</th>\n",
       "      <td>Unturned</td>\n",
       "      <td>1563.0</td>\n",
       "    </tr>\n",
       "    <tr>\n",
       "      <th>3</th>\n",
       "      <td>Counter-Strike Global Offensive</td>\n",
       "      <td>1412.0</td>\n",
       "    </tr>\n",
       "    <tr>\n",
       "      <th>4</th>\n",
       "      <td>Half-Life 2 Lost Coast</td>\n",
       "      <td>981.0</td>\n",
       "    </tr>\n",
       "    <tr>\n",
       "      <th>5</th>\n",
       "      <td>Counter-Strike Source</td>\n",
       "      <td>978.0</td>\n",
       "    </tr>\n",
       "    <tr>\n",
       "      <th>6</th>\n",
       "      <td>Left 4 Dead 2</td>\n",
       "      <td>951.0</td>\n",
       "    </tr>\n",
       "    <tr>\n",
       "      <th>7</th>\n",
       "      <td>Counter-Strike</td>\n",
       "      <td>856.0</td>\n",
       "    </tr>\n",
       "    <tr>\n",
       "      <th>8</th>\n",
       "      <td>Warframe</td>\n",
       "      <td>847.0</td>\n",
       "    </tr>\n",
       "    <tr>\n",
       "      <th>9</th>\n",
       "      <td>Half-Life 2 Deathmatch</td>\n",
       "      <td>823.0</td>\n",
       "    </tr>\n",
       "  </tbody>\n",
       "</table>\n",
       "</div>"
      ],
      "text/plain": [
       "                        game-title   value\n",
       "0                           Dota 2  4841.0\n",
       "1                  Team Fortress 2  2323.0\n",
       "2                         Unturned  1563.0\n",
       "3  Counter-Strike Global Offensive  1412.0\n",
       "4           Half-Life 2 Lost Coast   981.0\n",
       "5            Counter-Strike Source   978.0\n",
       "6                    Left 4 Dead 2   951.0\n",
       "7                   Counter-Strike   856.0\n",
       "8                         Warframe   847.0\n",
       "9           Half-Life 2 Deathmatch   823.0"
      ]
     },
     "metadata": {},
     "output_type": "display_data"
    }
   ],
   "source": [
    "steam_grouped = steam_df.loc[steam_df['behavior-name'] == 'purchase', ['game-title', 'value']]\n",
    "steam_grouped = steam_grouped.groupby('game-title').agg({'value': 'sum'})\n",
    "# Alternatively\n",
    "# steam_grouped = steam_grouped.groupby('game-title').agg({'value': sum})\n",
    "# Alternatively\n",
    "# steam_grouped = steam_grouped.groupby('game-title').agg({'value': lambda x: np.sum(x)})\n",
    "steam_grouped = steam_grouped.sort_values(by='value', ascending=False).reset_index()\n",
    "\n",
    "display(steam_grouped.head(10))"
   ]
  },
  {
   "cell_type": "markdown",
   "id": "indie-calcium",
   "metadata": {
    "pycharm": {
     "name": "#%% md\n"
    }
   },
   "source": [
    "## Iterating over a DataFrame (if possible, use column operations instead)"
   ]
  },
  {
   "cell_type": "code",
   "execution_count": 38,
   "id": "laden-intersection",
   "metadata": {
    "pycharm": {
     "name": "#%%\n"
    }
   },
   "outputs": [
    {
     "name": "stdout",
     "output_type": "stream",
     "text": [
      "[151603712, The Elder Scrolls V Skyrim, purchase]\n",
      "[151603712, The Elder Scrolls V Skyrim, play]\n",
      "[151603712, Fallout 4, purchase]\n",
      "[151603712, Fallout 4, play]\n",
      "[151603712, Spore, purchase]\n",
      "[151603712, Spore, play]\n",
      "[151603712, Fallout New Vegas, purchase]\n",
      "[151603712, Fallout New Vegas, play]\n",
      "[151603712, Left 4 Dead 2, purchase]\n",
      "[151603712, Left 4 Dead 2, play]\n"
     ]
    }
   ],
   "source": [
    "i = 0\n",
    "for idx, row in steam_df.iterrows():\n",
    "    print(\"[{}, {}, {}]\".format(row['user-id'], row['game-title'], row['behavior-name']))\n",
    "    i += 1\n",
    "    if i == 10:\n",
    "        break"
   ]
  },
  {
   "cell_type": "code",
   "execution_count": null,
   "id": "unable-fashion",
   "metadata": {
    "pycharm": {
     "name": "#%%\n"
    }
   },
   "outputs": [],
   "source": []
  }
 ],
 "metadata": {
  "kernelspec": {
   "display_name": "Python 3 (ipykernel)",
   "language": "python",
   "name": "python3"
  },
  "language_info": {
   "codemirror_mode": {
    "name": "ipython",
    "version": 3
   },
   "file_extension": ".py",
   "mimetype": "text/x-python",
   "name": "python",
   "nbconvert_exporter": "python",
   "pygments_lexer": "ipython3",
   "version": "3.9.13"
  }
 },
 "nbformat": 4,
 "nbformat_minor": 5
}